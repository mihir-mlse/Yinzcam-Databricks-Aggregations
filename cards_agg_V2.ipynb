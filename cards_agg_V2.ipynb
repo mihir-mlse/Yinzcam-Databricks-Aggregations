{
 "cells": [
  {
   "cell_type": "markdown",
   "metadata": {
    "application/vnd.databricks.v1+cell": {
     "cellMetadata": {},
     "inputWidgets": {},
     "nuid": "889cb360-f55e-465d-a912-a81ed6809a8e",
     "showTitle": false,
     "title": ""
    }
   },
   "source": [
    "# Calculate Daily Clicks and Impressions for Team Mobile App Cards\n",
    "\n",
    "## Description\n",
    "\n",
    "This notebook generates the daily (EST) number of clicks and impressions (total, unique, registered users, non-registered users, etc.) on mobile cards for each team app using the YinzCam Realtime API data.\n",
    "\n",
    "## Preprocessing\n",
    "\n",
    "* Load the Actions & Sessions data from the ADL\n",
    "* Filter Actions data for Cards only\n",
    "* Join Cards and sessions tables on `device_id`\n",
    "* Aggregate the types of actions by card id\n",
    "\n",
    "Notes: The `card_id` column takes the first argument of the type minor information and return it as a tag for this particular card. Therefore there is no need to join with the meta file.\n",
    "\n",
    "\n",
    "## Outputs\n",
    "\n",
    "CSV to Data Lake <br>\n",
    "SQL Table to MS SQL\n",
    "* `team_cards_agg` table: date, card_id, total_clicks, total_unique_clicks,\ttotal_reg_clicks, total_reg_unique_clicks, total_nonreg_clicks, total_nonreg_unique_clicks, total_imps, total_unique_imps, total_reg_imps, total_reg_unique_imps, total_nonreg_imps, total_nonreg_unique_imps. Where `team in {nhl,tfc,nba}`\n",
    "\n",
    "## QA\n",
    "\n",
    "* Khaled Elshamouty, Data Scientist, Khaled.Elshamouty@MLSE.com (Primary)\n",
    "* Nicole Ridout, Data Engineer, Nicole.Ridout@MLSE.com\n",
    "* Farah Bastien, Manager of Data Science, Farah.Bastien@MLSE.com"
   ]
  },
  {
   "cell_type": "markdown",
   "metadata": {
    "application/vnd.databricks.v1+cell": {
     "cellMetadata": {},
     "inputWidgets": {},
     "nuid": "de4e5380-771d-48b8-a259-3986b1ba6053",
     "showTitle": false,
     "title": ""
    }
   },
   "source": [
    "##### Load the necessary functions from `PySpark` and `Python`"
   ]
  },
  {
   "cell_type": "code",
   "execution_count": 0,
   "metadata": {
    "application/vnd.databricks.v1+cell": {
     "cellMetadata": {},
     "inputWidgets": {},
     "nuid": "851a7260-6bd2-4003-8344-2ae408f4d9f4",
     "showTitle": false,
     "title": ""
    }
   },
   "outputs": [
    {
     "output_type": "display_data",
     "data": {
      "text/html": [
       "<style scoped>\n",
       "  .ansiout {\n",
       "    display: block;\n",
       "    unicode-bidi: embed;\n",
       "    white-space: pre-wrap;\n",
       "    word-wrap: break-word;\n",
       "    word-break: break-all;\n",
       "    font-family: \"Menlo\", \"Monaco\", \"Consolas\", \"Ubuntu Mono\", \"Source Code Pro\", monospace;\n",
       "    font-size: 13px;\n",
       "    color: #555;\n",
       "    margin-left: 4px;\n",
       "    line-height: 19px;\n",
       "  }\n",
       "</style>\n",
       "<div class=\"ansiout\"></div>"
      ]
     },
     "metadata": {
      "application/vnd.databricks.v1+output": {
       "addedWidgets": {},
       "arguments": {},
       "data": "<div class=\"ansiout\"></div>",
       "datasetInfos": [],
       "metadata": {},
       "removedWidgets": [],
       "type": "html"
      }
     },
     "output_type": "display_data"
    }
   ],
   "source": [
    "#SQL-like functions from PySpark\n",
    "from pyspark.sql.functions import col,date_format,from_utc_timestamp, from_unixtime, unix_timestamp, sum, count,\\\n",
    "                                  countDistinct, collect_list, size,month,min,max,when,upper, \\\n",
    "                                  lag,split,size,length, lit, mean, collect_set, concat, upper,create_map, weekofyear,\\\n",
    "                                  year,round,first, explode, isnan, regexp_replace, to_date, floor, when\n",
    "from pyspark.sql.types import TimestampType, IntegerType, DoubleType, StringType, DateType, StructType\n",
    "from pyspark.sql.window import Window\n",
    "\n",
    "#datetime from Python\n",
    "from datetime import datetime,timedelta,date\n",
    "import numpy as np\n",
    "import os, re, glob\n",
    "from itertools import chain"
   ]
  },
  {
   "cell_type": "markdown",
   "metadata": {
    "application/vnd.databricks.v1+cell": {
     "cellMetadata": {},
     "inputWidgets": {},
     "nuid": "a2600c9b-03a6-453b-8796-9a43ac46bf97",
     "showTitle": false,
     "title": ""
    }
   },
   "source": [
    "#### Helper Functions"
   ]
  },
  {
   "cell_type": "code",
   "execution_count": 0,
   "metadata": {
    "application/vnd.databricks.v1+cell": {
     "cellMetadata": {},
     "inputWidgets": {},
     "nuid": "660edbf9-36d8-49ab-85af-553139f9d5de",
     "showTitle": false,
     "title": ""
    }
   },
   "outputs": [
    {
     "output_type": "display_data",
     "data": {
      "text/html": [
       "<style scoped>\n",
       "  .ansiout {\n",
       "    display: block;\n",
       "    unicode-bidi: embed;\n",
       "    white-space: pre-wrap;\n",
       "    word-wrap: break-word;\n",
       "    word-break: break-all;\n",
       "    font-family: \"Menlo\", \"Monaco\", \"Consolas\", \"Ubuntu Mono\", \"Source Code Pro\", monospace;\n",
       "    font-size: 13px;\n",
       "    color: #555;\n",
       "    margin-left: 4px;\n",
       "    line-height: 19px;\n",
       "  }\n",
       "</style>\n",
       "<div class=\"ansiout\"></div>"
      ]
     },
     "metadata": {
      "application/vnd.databricks.v1+output": {
       "addedWidgets": {},
       "arguments": {},
       "data": "<div class=\"ansiout\"></div>",
       "datasetInfos": [],
       "metadata": {},
       "removedWidgets": [],
       "type": "html"
      }
     },
     "output_type": "display_data"
    }
   ],
   "source": [
    "# Returns formatted card id\n",
    "def get_tag_(s):\n",
    "  try:\n",
    "    fields = s.split(\"|\")\n",
    "    tag = fields[0]\n",
    "  except:\n",
    "    tag = None\n",
    "  return tag\n",
    "\n",
    "get_tag = udf(get_tag_)\n",
    "\n",
    "# Returns formatted card location\n",
    "def get_tag_2(s):\n",
    "  try:\n",
    "    fields = s.split(\"|\")\n",
    "    tag = fields[2]\n",
    "  except:\n",
    "    tag = None\n",
    "  return tag\n",
    "\n",
    "get_tag2 = udf(get_tag_2)"
   ]
  },
  {
   "cell_type": "markdown",
   "metadata": {
    "application/vnd.databricks.v1+cell": {
     "cellMetadata": {},
     "inputWidgets": {},
     "nuid": "91f3404e-c714-4de2-a0f1-05d9364a71bc",
     "showTitle": false,
     "title": ""
    }
   },
   "source": [
    "##### Load the ADL configuration"
   ]
  },
  {
   "cell_type": "code",
   "execution_count": 0,
   "metadata": {
    "application/vnd.databricks.v1+cell": {
     "cellMetadata": {},
     "inputWidgets": {},
     "nuid": "d10de16f-e992-44de-b929-cedaa981f0c1",
     "showTitle": false,
     "title": ""
    }
   },
   "outputs": [
    {
     "output_type": "display_data",
     "data": {
      "text/html": [
       "<style scoped>\n",
       "  .ansiout {\n",
       "    display: block;\n",
       "    unicode-bidi: embed;\n",
       "    white-space: pre-wrap;\n",
       "    word-wrap: break-word;\n",
       "    word-break: break-all;\n",
       "    font-family: \"Menlo\", \"Monaco\", \"Consolas\", \"Ubuntu Mono\", \"Source Code Pro\", monospace;\n",
       "    font-size: 13px;\n",
       "    color: #555;\n",
       "    margin-left: 4px;\n",
       "    line-height: 19px;\n",
       "  }\n",
       "</style>\n",
       "<div class=\"ansiout\"></div>"
      ]
     },
     "metadata": {
      "application/vnd.databricks.v1+output": {
       "addedWidgets": {},
       "arguments": {},
       "data": "<div class=\"ansiout\"></div>",
       "datasetInfos": [],
       "metadata": {},
       "removedWidgets": [],
       "type": "html"
      }
     },
     "output_type": "display_data"
    }
   ],
   "source": [
    "url = \"https://login.microsoftonline.com/{0}/oauth2/token\".format(dbutils.secrets.get(scope = \"adl_cred\", key = \"directory_id\"))\n",
    "spark.conf.set(\"dfs.adls.oauth2.access.token.provider.type\", \"ClientCredential\")\n",
    "spark.conf.set(\"dfs.adls.oauth2.client.id\", dbutils.secrets.get(scope = \"adl_cred\", key = \"client_id\"))\n",
    "spark.conf.set(\"dfs.adls.oauth2.credential\", dbutils.secrets.get(scope = \"adl_cred\", key = \"credential\"))\n",
    "spark.conf.set(\"dfs.adls.oauth2.refresh.url\", url)"
   ]
  },
  {
   "cell_type": "markdown",
   "metadata": {
    "application/vnd.databricks.v1+cell": {
     "cellMetadata": {},
     "inputWidgets": {},
     "nuid": "28fcd2f2-d4d1-4099-a536-2ea560d68ea7",
     "showTitle": false,
     "title": ""
    }
   },
   "source": [
    "##### Define the team"
   ]
  },
  {
   "cell_type": "code",
   "execution_count": 0,
   "metadata": {
    "application/vnd.databricks.v1+cell": {
     "cellMetadata": {},
     "inputWidgets": {},
     "nuid": "28203819-7d5f-4a4c-a76a-9aa972586d8a",
     "showTitle": false,
     "title": ""
    }
   },
   "outputs": [
    {
     "output_type": "display_data",
     "data": {
      "text/html": [
       "<style scoped>\n",
       "  .ansiout {\n",
       "    display: block;\n",
       "    unicode-bidi: embed;\n",
       "    white-space: pre-wrap;\n",
       "    word-wrap: break-word;\n",
       "    word-break: break-all;\n",
       "    font-family: \"Menlo\", \"Monaco\", \"Consolas\", \"Ubuntu Mono\", \"Source Code Pro\", monospace;\n",
       "    font-size: 13px;\n",
       "    color: #555;\n",
       "    margin-left: 4px;\n",
       "    line-height: 19px;\n",
       "  }\n",
       "</style>\n",
       "<div class=\"ansiout\">Working with nba team\n",
       "</div>"
      ]
     },
     "metadata": {
      "application/vnd.databricks.v1+output": {
       "addedWidgets": {
        "team": {
         "defaultValue": "",
         "label": "",
         "name": "team",
         "options": {
          "autoCreated": null,
          "validationRegex": null,
          "widgetType": "text"
         },
         "widgetType": "text"
        }
       },
       "arguments": {
        "team": "nba"
       },
       "data": "<div class=\"ansiout\">Working with nba team\n</div>",
       "datasetInfos": [],
       "metadata": {},
       "removedWidgets": [],
       "type": "html"
      }
     },
     "output_type": "display_data"
    }
   ],
   "source": [
    "dbutils.widgets.text(\"team\", \"\",\"\")\n",
    "dbutils.widgets.get(\"team\")\n",
    "team = getArgument(\"team\")\n",
    "print(\"Working with {0} team\".format(team))"
   ]
  },
  {
   "cell_type": "markdown",
   "metadata": {
    "application/vnd.databricks.v1+cell": {
     "cellMetadata": {},
     "inputWidgets": {},
     "nuid": "e3bd5619-2fb5-4d18-a96b-a8d518a88f65",
     "showTitle": false,
     "title": ""
    }
   },
   "source": [
    "#### Load the Actions from the ADL and filter for `cards` only"
   ]
  },
  {
   "cell_type": "code",
   "execution_count": 0,
   "metadata": {
    "application/vnd.databricks.v1+cell": {
     "cellMetadata": {},
     "inputWidgets": {},
     "nuid": "0f949f54-3f61-408c-be3f-c1470ebe79ad",
     "showTitle": false,
     "title": ""
    }
   },
   "outputs": [
    {
     "output_type": "display_data",
     "data": {
      "text/html": [
       "<style scoped>\n",
       "  .ansiout {\n",
       "    display: block;\n",
       "    unicode-bidi: embed;\n",
       "    white-space: pre-wrap;\n",
       "    word-wrap: break-word;\n",
       "    word-break: break-all;\n",
       "    font-family: \"Menlo\", \"Monaco\", \"Consolas\", \"Ubuntu Mono\", \"Source Code Pro\", monospace;\n",
       "    font-size: 13px;\n",
       "    color: #555;\n",
       "    margin-left: 4px;\n",
       "    line-height: 19px;\n",
       "  }\n",
       "</style>\n",
       "<div class=\"ansiout\"></div>"
      ]
     },
     "metadata": {
      "application/vnd.databricks.v1+output": {
       "addedWidgets": {},
       "arguments": {},
       "data": "<div class=\"ansiout\"></div>",
       "datasetInfos": [
        {
         "name": "cards",
         "schema": {
          "fields": [
           {
            "metadata": {},
            "name": "session_id",
            "nullable": true,
            "type": "string"
           },
           {
            "metadata": {},
            "name": "resource_major",
            "nullable": true,
            "type": "string"
           },
           {
            "metadata": {},
            "name": "type_major",
            "nullable": true,
            "type": "string"
           },
           {
            "metadata": {},
            "name": "type_minor",
            "nullable": true,
            "type": "string"
           },
           {
            "metadata": {},
            "name": "yinzid",
            "nullable": true,
            "type": "string"
           },
           {
            "metadata": {},
            "name": "date",
            "nullable": true,
            "type": "date"
           },
           {
            "metadata": {},
            "name": "card_id",
            "nullable": true,
            "type": "string"
           },
           {
            "metadata": {},
            "name": "card_location",
            "nullable": true,
            "type": "string"
           }
          ],
          "type": "struct"
         },
         "tableIdentifier": null,
         "typeStr": "pyspark.sql.dataframe.DataFrame"
        }
       ],
       "metadata": {},
       "removedWidgets": [],
       "type": "html"
      }
     },
     "output_type": "display_data"
    }
   ],
   "source": [
    "adlurl = \"adl://mlse1.azuredatalakestore.net/yinz_cam/\"+ team +\"_tor/realtime_api/\"\n",
    "files = dbutils.fs.ls(adlurl + 'actions')\n",
    "file_paths = [x.path for x in files]\n",
    "# Read Actions and Sessions CSVs from ADL, Select Cards\n",
    "cards  = (spark.read.csv(file_paths, header=True)\n",
    "          .drop_duplicates()\n",
    "          .select('request_date_time', 'session_id', 'resource_major', 'type_major', 'type_minor', 'yinzid')\n",
    "          .withColumn('date', to_date(from_utc_timestamp(col('request_date_time').cast(TimestampType()), \"America/Toronto\")))\n",
    "          .drop('request_date_time')\n",
    "          .where(col('type_major').like(\"%CARD%\"))\n",
    "          .withColumn(\"card_id\", get_tag(\"type_minor\"))\n",
    "          .withColumn(\"card_location\", get_tag2(\"type_minor\"))\n",
    "         )\n",
    "\n",
    "# cards_2  = (spark.read.csv(file_paths[1596:],header=True)\n",
    "#           .drop_duplicates()\n",
    "#           .select('request_date_time', 'session_id', 'resource_major', 'type_major', 'type_minor', 'yinzid')\n",
    "#           .withColumn('date', to_date(from_utc_timestamp(col('request_date_time').cast(TimestampType()), \"America/Toronto\")))\n",
    "#           .drop('request_date_time')\n",
    "#           .where(col('type_major').like(\"%CARD%\"))\n",
    "#           .withColumn(\"card_id\", get_tag(\"type_minor\"))\n",
    "#           .withColumn(\"card_location\", get_tag2(\"type_minor\"))\n",
    "#          )"
   ]
  },
  {
   "cell_type": "code",
   "execution_count": 0,
   "metadata": {
    "application/vnd.databricks.v1+cell": {
     "cellMetadata": {},
     "inputWidgets": {},
     "nuid": "2e7d3d09-a08c-4cc0-b447-f4d007c0fbca",
     "showTitle": false,
     "title": ""
    }
   },
   "outputs": [
    {
     "output_type": "display_data",
     "data": {
      "text/html": [
       "<style scoped>\n",
       "  .ansiout {\n",
       "    display: block;\n",
       "    unicode-bidi: embed;\n",
       "    white-space: pre-wrap;\n",
       "    word-wrap: break-word;\n",
       "    word-break: break-all;\n",
       "    font-family: \"Menlo\", \"Monaco\", \"Consolas\", \"Ubuntu Mono\", \"Source Code Pro\", monospace;\n",
       "    font-size: 13px;\n",
       "    color: #555;\n",
       "    margin-left: 4px;\n",
       "    line-height: 19px;\n",
       "  }\n",
       "</style>\n",
       "<div class=\"ansiout\"></div>"
      ]
     },
     "metadata": {
      "application/vnd.databricks.v1+output": {
       "addedWidgets": {},
       "arguments": {},
       "data": "<div class=\"ansiout\"></div>",
       "datasetInfos": [],
       "metadata": {},
       "removedWidgets": [],
       "type": "html"
      }
     },
     "output_type": "display_data"
    }
   ],
   "source": [
    "# cards = cards.union(cards_2)\n",
    "# display(cards.select(max ('date')))"
   ]
  },
  {
   "cell_type": "markdown",
   "metadata": {
    "application/vnd.databricks.v1+cell": {
     "cellMetadata": {},
     "inputWidgets": {},
     "nuid": "f7382f51-0127-43bd-966d-091f6de31eda",
     "showTitle": false,
     "title": ""
    }
   },
   "source": [
    "#### Load Sessions from ADL and Join Cards and Sessions tables on `device_id`"
   ]
  },
  {
   "cell_type": "code",
   "execution_count": 0,
   "metadata": {
    "application/vnd.databricks.v1+cell": {
     "cellMetadata": {},
     "inputWidgets": {},
     "nuid": "4371eee2-e376-416f-8293-8c91c25e7424",
     "showTitle": false,
     "title": ""
    }
   },
   "outputs": [
    {
     "output_type": "display_data",
     "data": {
      "text/html": [
       "<style scoped>\n",
       "  .ansiout {\n",
       "    display: block;\n",
       "    unicode-bidi: embed;\n",
       "    white-space: pre-wrap;\n",
       "    word-wrap: break-word;\n",
       "    word-break: break-all;\n",
       "    font-family: \"Menlo\", \"Monaco\", \"Consolas\", \"Ubuntu Mono\", \"Source Code Pro\", monospace;\n",
       "    font-size: 13px;\n",
       "    color: #555;\n",
       "    margin-left: 4px;\n",
       "    line-height: 19px;\n",
       "  }\n",
       "</style>\n",
       "<div class=\"ansiout\"></div>"
      ]
     },
     "metadata": {
      "application/vnd.databricks.v1+output": {
       "addedWidgets": {},
       "arguments": {},
       "data": "<div class=\"ansiout\"></div>",
       "datasetInfos": [
        {
         "name": "sessions",
         "schema": {
          "fields": [
           {
            "metadata": {},
            "name": "device_generated_id",
            "nullable": true,
            "type": "string"
           },
           {
            "metadata": {},
            "name": "device_id",
            "nullable": true,
            "type": "string"
           }
          ],
          "type": "struct"
         },
         "tableIdentifier": null,
         "typeStr": "pyspark.sql.dataframe.DataFrame"
        },
        {
         "name": "cards_devid",
         "schema": {
          "fields": [
           {
            "metadata": {},
            "name": "session_id",
            "nullable": true,
            "type": "string"
           },
           {
            "metadata": {},
            "name": "resource_major",
            "nullable": true,
            "type": "string"
           },
           {
            "metadata": {},
            "name": "type_major",
            "nullable": true,
            "type": "string"
           },
           {
            "metadata": {},
            "name": "type_minor",
            "nullable": true,
            "type": "string"
           },
           {
            "metadata": {},
            "name": "yinzid",
            "nullable": true,
            "type": "string"
           },
           {
            "metadata": {},
            "name": "date",
            "nullable": true,
            "type": "date"
           },
           {
            "metadata": {},
            "name": "card_id",
            "nullable": true,
            "type": "string"
           },
           {
            "metadata": {},
            "name": "card_location",
            "nullable": true,
            "type": "string"
           },
           {
            "metadata": {},
            "name": "device_id",
            "nullable": true,
            "type": "string"
           }
          ],
          "type": "struct"
         },
         "tableIdentifier": null,
         "typeStr": "pyspark.sql.dataframe.DataFrame"
        }
       ],
       "metadata": {},
       "removedWidgets": [],
       "type": "html"
      }
     },
     "output_type": "display_data"
    }
   ],
   "source": [
    "sessions = (spark.read.csv(adlurl + 'sessions',header=True)\n",
    "           .select('device_generated_id', 'device_id')\n",
    "           )\n",
    "\n",
    "# Provides addtional information about the users - registered/unregistered\n",
    "cards_devid =(cards\n",
    "              .join(sessions\n",
    "                    .withColumn(\"session_id\", sessions.device_generated_id)\n",
    "                    .select(\"session_id\",\"device_id\"), \"session_id\", \"left\"\n",
    "                   )\n",
    "             )"
   ]
  },
  {
   "cell_type": "markdown",
   "metadata": {
    "application/vnd.databricks.v1+cell": {
     "cellMetadata": {},
     "inputWidgets": {},
     "nuid": "cd63408a-ff4c-4b4d-ac68-8c8ec619fbd3",
     "showTitle": false,
     "title": ""
    }
   },
   "source": [
    "#### Aggregate Card Actions by Date, Resource, Card Name and Card Location"
   ]
  },
  {
   "cell_type": "code",
   "execution_count": 0,
   "metadata": {
    "application/vnd.databricks.v1+cell": {
     "cellMetadata": {},
     "inputWidgets": {},
     "nuid": "d1dce797-e3ec-4f9f-8d56-c75f841e305d",
     "showTitle": false,
     "title": ""
    }
   },
   "outputs": [
    {
     "output_type": "display_data",
     "data": {
      "text/html": [
       "<style scoped>\n",
       "  .ansiout {\n",
       "    display: block;\n",
       "    unicode-bidi: embed;\n",
       "    white-space: pre-wrap;\n",
       "    word-wrap: break-word;\n",
       "    word-break: break-all;\n",
       "    font-family: \"Menlo\", \"Monaco\", \"Consolas\", \"Ubuntu Mono\", \"Source Code Pro\", monospace;\n",
       "    font-size: 13px;\n",
       "    color: #555;\n",
       "    margin-left: 4px;\n",
       "    line-height: 19px;\n",
       "  }\n",
       "</style>\n",
       "<div class=\"ansiout\"></div>"
      ]
     },
     "metadata": {
      "application/vnd.databricks.v1+output": {
       "addedWidgets": {},
       "arguments": {},
       "data": "<div class=\"ansiout\"></div>",
       "datasetInfos": [
        {
         "name": "total_cards",
         "schema": {
          "fields": [
           {
            "metadata": {},
            "name": "date",
            "nullable": true,
            "type": "date"
           },
           {
            "metadata": {},
            "name": "resource_major",
            "nullable": true,
            "type": "string"
           },
           {
            "metadata": {},
            "name": "card_id",
            "nullable": true,
            "type": "string"
           },
           {
            "metadata": {},
            "name": "card_location",
            "nullable": true,
            "type": "string"
           },
           {
            "metadata": {},
            "name": "total_clicks",
            "nullable": true,
            "type": "long"
           },
           {
            "metadata": {},
            "name": "total_unique_clicks",
            "nullable": false,
            "type": "long"
           },
           {
            "metadata": {},
            "name": "total_reg_clicks",
            "nullable": true,
            "type": "long"
           },
           {
            "metadata": {},
            "name": "total_reg_unique_clicks",
            "nullable": false,
            "type": "long"
           },
           {
            "metadata": {},
            "name": "total_nonreg_clicks",
            "nullable": true,
            "type": "long"
           },
           {
            "metadata": {},
            "name": "total_nonreg_unique_clicks",
            "nullable": false,
            "type": "long"
           },
           {
            "metadata": {},
            "name": "total_imps",
            "nullable": true,
            "type": "long"
           },
           {
            "metadata": {},
            "name": "total_unique_imps",
            "nullable": false,
            "type": "long"
           },
           {
            "metadata": {},
            "name": "total_reg_imps",
            "nullable": true,
            "type": "long"
           },
           {
            "metadata": {},
            "name": "total_reg_unique_imps",
            "nullable": false,
            "type": "long"
           },
           {
            "metadata": {},
            "name": "total_nonreg_imps",
            "nullable": true,
            "type": "long"
           },
           {
            "metadata": {},
            "name": "total_nonreg_unique_imps",
            "nullable": false,
            "type": "long"
           }
          ],
          "type": "struct"
         },
         "tableIdentifier": null,
         "typeStr": "pyspark.sql.dataframe.DataFrame"
        }
       ],
       "metadata": {},
       "removedWidgets": [],
       "type": "html"
      }
     },
     "output_type": "display_data"
    }
   ],
   "source": [
    "total_cards = (cards_devid\n",
    "                .groupBy([\"date\",\"resource_major\",\"card_id\",\"card_location\"])\n",
    "                .agg(sum(when(col(\"type_major\").like(\"%CLICK%\"), 1).otherwise(0)).alias(\"total_clicks\"),\n",
    "                     countDistinct(when(col(\"type_major\").like(\"%CLICK%\"), col(\"device_id\"))).alias(\"total_unique_clicks\"),\n",
    "                     sum(when(col(\"yinzid\").isNotNull() & col(\"type_major\").like(\"%CLICK%\"), 1).otherwise(0)).alias(\"total_reg_clicks\"),\n",
    "                     countDistinct(when(col(\"type_major\").like(\"%CLICK%\") & col(\"yinzid\").isNotNull(), col(\"device_id\"))).alias(\"total_reg_unique_clicks\"),\n",
    "                     sum(when(col(\"yinzid\").isNull() & col(\"type_major\").like(\"%CLICK%\"), 1).otherwise(0)).alias(\"total_nonreg_clicks\"),\n",
    "                     countDistinct(when(col(\"type_major\").like(\"%CLICK%\") & col(\"yinzid\").isNull(), col(\"device_id\"))).alias(\"total_nonreg_unique_clicks\"),\n",
    "                     sum(when(col(\"type_major\").like(\"%IMP%\"), 1).otherwise(0)).alias(\"total_imps\"),\n",
    "                     countDistinct(when(col(\"type_major\").like(\"%IMP%\"), col(\"device_id\"))).alias(\"total_unique_imps\"),\n",
    "                     sum(when(col(\"yinzid\").isNotNull() & col(\"type_major\").like(\"%IMP%\"), 1).otherwise(0)).alias(\"total_reg_imps\"),\n",
    "                     countDistinct(when(col(\"type_major\").like(\"%IMP%\") & col(\"yinzid\").isNotNull(), col(\"device_id\"))).alias(\"total_reg_unique_imps\"),\n",
    "                     sum(when(col(\"yinzid\").isNull() & col(\"type_major\").like(\"%IMP%\"), 1).otherwise(0)).alias(\"total_nonreg_imps\"),\n",
    "                     countDistinct(when(col(\"type_major\").like(\"%IMP%\") & col(\"yinzid\").isNull(), col(\"device_id\"))).alias(\"total_nonreg_unique_imps\"),\n",
    "                    )\n",
    "               )"
   ]
  },
  {
   "cell_type": "code",
   "execution_count": 0,
   "metadata": {
    "application/vnd.databricks.v1+cell": {
     "cellMetadata": {},
     "inputWidgets": {},
     "nuid": "96386ee3-b742-4a2c-91f5-7a0bd89743a4",
     "showTitle": false,
     "title": ""
    }
   },
   "outputs": [
    {
     "output_type": "display_data",
     "data": {
      "text/html": [
       "<style scoped>\n",
       "  .ansiout {\n",
       "    display: block;\n",
       "    unicode-bidi: embed;\n",
       "    white-space: pre-wrap;\n",
       "    word-wrap: break-word;\n",
       "    word-break: break-all;\n",
       "    font-family: \"Menlo\", \"Monaco\", \"Consolas\", \"Ubuntu Mono\", \"Source Code Pro\", monospace;\n",
       "    font-size: 13px;\n",
       "    color: #555;\n",
       "    margin-left: 4px;\n",
       "    line-height: 19px;\n",
       "  }\n",
       "</style>\n",
       "<div class=\"ansiout\"></div>"
      ]
     },
     "metadata": {
      "application/vnd.databricks.v1+output": {
       "addedWidgets": {},
       "arguments": {},
       "data": "<div class=\"ansiout\"></div>",
       "datasetInfos": [],
       "metadata": {},
       "removedWidgets": [],
       "type": "html"
      }
     },
     "output_type": "display_data"
    }
   ],
   "source": [
    "# display(total_cards.orderBy(col('date'), ascending=False))"
   ]
  },
  {
   "cell_type": "markdown",
   "metadata": {
    "application/vnd.databricks.v1+cell": {
     "cellMetadata": {},
     "inputWidgets": {},
     "nuid": "1c93ec36-8aa3-4043-b7cf-256e5677868a",
     "showTitle": false,
     "title": ""
    }
   },
   "source": [
    "### Write to SQL"
   ]
  },
  {
   "cell_type": "code",
   "execution_count": 0,
   "metadata": {
    "application/vnd.databricks.v1+cell": {
     "cellMetadata": {},
     "inputWidgets": {},
     "nuid": "18706c5a-bacd-4bfa-81f3-804ac8316698",
     "showTitle": false,
     "title": ""
    }
   },
   "outputs": [
    {
     "output_type": "display_data",
     "data": {
      "text/html": [
       "<style scoped>\n",
       "  .ansiout {\n",
       "    display: block;\n",
       "    unicode-bidi: embed;\n",
       "    white-space: pre-wrap;\n",
       "    word-wrap: break-word;\n",
       "    word-break: break-all;\n",
       "    font-family: \"Menlo\", \"Monaco\", \"Consolas\", \"Ubuntu Mono\", \"Source Code Pro\", monospace;\n",
       "    font-size: 13px;\n",
       "    color: #555;\n",
       "    margin-left: 4px;\n",
       "    line-height: 19px;\n",
       "  }\n",
       "</style>\n",
       "<div class=\"ansiout\"></div>"
      ]
     },
     "metadata": {
      "application/vnd.databricks.v1+output": {
       "addedWidgets": {},
       "arguments": {},
       "data": "<div class=\"ansiout\"></div>",
       "datasetInfos": [],
       "metadata": {},
       "removedWidgets": [],
       "type": "html"
      }
     },
     "output_type": "display_data"
    }
   ],
   "source": [
    "sqlserver = dbutils.secrets.get(scope = \"jdbc\", key = \"sqlserver\")\n",
    "port = '1433'\n",
    "database = 'mlse_freq'\n",
    "user = dbutils.secrets.get(scope = \"jdbc\", key = \"username\")\n",
    "pswd = dbutils.secrets.get(scope = \"jdbc\", key = \"password\")\n",
    "url = 'jdbc:sqlserver://' + sqlserver + ':' + port + ';database=' + database"
   ]
  },
  {
   "cell_type": "code",
   "execution_count": 0,
   "metadata": {
    "application/vnd.databricks.v1+cell": {
     "cellMetadata": {},
     "inputWidgets": {},
     "nuid": "9fed41d9-d9e8-47ed-bf2d-4a2884032954",
     "showTitle": false,
     "title": ""
    }
   },
   "outputs": [
    {
     "output_type": "display_data",
     "data": {
      "text/html": [
       "<style scoped>\n",
       "  .ansiout {\n",
       "    display: block;\n",
       "    unicode-bidi: embed;\n",
       "    white-space: pre-wrap;\n",
       "    word-wrap: break-word;\n",
       "    word-break: break-all;\n",
       "    font-family: \"Menlo\", \"Monaco\", \"Consolas\", \"Ubuntu Mono\", \"Source Code Pro\", monospace;\n",
       "    font-size: 13px;\n",
       "    color: #555;\n",
       "    margin-left: 4px;\n",
       "    line-height: 19px;\n",
       "  }\n",
       "</style>\n",
       "<div class=\"ansiout\"></div>"
      ]
     },
     "metadata": {
      "application/vnd.databricks.v1+output": {
       "addedWidgets": {},
       "arguments": {},
       "data": "<div class=\"ansiout\"></div>",
       "datasetInfos": [],
       "metadata": {},
       "removedWidgets": [],
       "type": "html"
      }
     },
     "output_type": "display_data"
    }
   ],
   "source": [
    "(total_cards \n",
    " .coalesce(8)\n",
    " .write\n",
    " .option('user', user)\n",
    " .option('password', pswd)\n",
    " .jdbc(url, team.lower() + \"_cards_agg\", mode = \"overwrite\")\n",
    ")"
   ]
  }
 ],
 "metadata": {
  "application/vnd.databricks.v1+notebook": {
   "dashboards": [],
   "language": "python",
   "notebookMetadata": {
    "pythonIndentUnit": 2
   },
   "notebookName": "cards_agg_V2",
   "widgets": {
    "team": {
     "currentValue": "nba",
     "nuid": "85b1bbfb-cff9-48a3-b442-baed6fdcc05f",
     "widgetInfo": {
      "widgetType": "text",
      "defaultValue": "",
      "label": "",
      "name": "team",
      "options": {
       "widgetType": "text",
       "autoCreated": null,
       "validationRegex": null
      }
     }
    }
   }
  }
 },
 "nbformat": 4,
 "nbformat_minor": 0
}
