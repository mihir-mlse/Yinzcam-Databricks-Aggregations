{
 "cells": [
  {
   "cell_type": "markdown",
   "metadata": {
    "application/vnd.databricks.v1+cell": {
     "cellMetadata": {},
     "inputWidgets": {},
     "nuid": "0bc99060-1c02-43c0-92bc-81e6b106c363",
     "showTitle": false,
     "title": ""
    }
   },
   "source": [
    "# Calculate Mobile App Clicks, Views and Opens for Push Notifications\n",
    "\n",
    "## Description \n",
    "Notebook to count clicks, views and open apps for push notifications by aggregating the click actions by MLSE ID. Page actions are further broken down into registered vs not registed users (yinzid or no yinz id), and total vs. unique actions.\n",
    "\n",
    "Notes:\n",
    "* a non_registered_user is defined when yinzcam_id=NULL\n",
    "* mlse_id = concat(\"device_id\",\"yinzid\")\n",
    "\n",
    "## Preprocessing\n",
    "\n",
    "* Load the YinzCam Realtime API data & Metadata from the ADL\n",
    "* Join `push` (filtered from actions) and `sessions` into a single table\n",
    "* Aggregate `Push` actions (`click`, `view`, `open`)\n",
    "\n",
    "## Output\n",
    "\n",
    "SQL Table to MS SQL\n",
    "* `team_push`: action_date, type_minor, total_push_clicks, total_unique_push_clicks, total_push_views, total_unique_push_views, total_opened_app, total_unique_opened_app, total_reg_push_clicks, total_non_reg_push_clicks, app_id, send_time, tag, alert, has_link, subscriptions_targeted. Where `team in {nhl,tfc,nba}`\n",
    "\n",
    "## QA \n",
    "* Erika Munoz, Data Scientist, Erika.Munoz@MLSE.com (Primary)\n",
    "* Nicole Ridout, Data Engineer, Nicole.Ridout@MLSE.com\n",
    "* Farah Bastien, Manager of Data Science, Farah.Bastien@MLSE.com"
   ]
  },
  {
   "cell_type": "markdown",
   "metadata": {
    "application/vnd.databricks.v1+cell": {
     "cellMetadata": {},
     "inputWidgets": {},
     "nuid": "6bfa7344-ea32-4066-88b7-1246e695556d",
     "showTitle": false,
     "title": ""
    }
   },
   "source": [
    "##### Load the necessary functions from `PySpark` and `Python`"
   ]
  },
  {
   "cell_type": "code",
   "execution_count": 0,
   "metadata": {
    "application/vnd.databricks.v1+cell": {
     "cellMetadata": {},
     "inputWidgets": {},
     "nuid": "e18080ef-22d5-494c-9243-98cf2416f558",
     "showTitle": false,
     "title": ""
    }
   },
   "outputs": [
    {
     "output_type": "display_data",
     "data": {
      "text/html": [
       "<style scoped>\n",
       "  .ansiout {\n",
       "    display: block;\n",
       "    unicode-bidi: embed;\n",
       "    white-space: pre-wrap;\n",
       "    word-wrap: break-word;\n",
       "    word-break: break-all;\n",
       "    font-family: \"Menlo\", \"Monaco\", \"Consolas\", \"Ubuntu Mono\", \"Source Code Pro\", monospace;\n",
       "    font-size: 13px;\n",
       "    color: #555;\n",
       "    margin-left: 4px;\n",
       "    line-height: 19px;\n",
       "  }\n",
       "</style>\n",
       "<div class=\"ansiout\"></div>"
      ]
     },
     "metadata": {
      "application/vnd.databricks.v1+output": {
       "addedWidgets": {},
       "arguments": {},
       "data": "<div class=\"ansiout\"></div>",
       "datasetInfos": [],
       "metadata": {},
       "removedWidgets": [],
       "type": "html"
      }
     },
     "output_type": "display_data"
    }
   ],
   "source": [
    "#SQL-like functions from PySpark\n",
    "from pyspark.sql.functions import col,date_format,from_utc_timestamp, from_unixtime, unix_timestamp, sum, count,\\\n",
    "                                  countDistinct, collect_list, size,month,min,max,when,upper, \\\n",
    "                                  lag,split,size,length, lit, mean, collect_set, concat, upper,create_map, weekofyear,\\\n",
    "                                  year,round,first, explode, isnan, regexp_replace, to_date, floor, when,isnan\n",
    "from pyspark.sql.types import TimestampType, IntegerType, DoubleType, StringType, DateType, StructType\n",
    "from pyspark.sql.window import Window\n",
    "\n",
    "#datetime from Python\n",
    "from datetime import datetime,timedelta,date\n",
    "import numpy as np\n",
    "import os, re, glob\n",
    "from itertools import chain"
   ]
  },
  {
   "cell_type": "markdown",
   "metadata": {
    "application/vnd.databricks.v1+cell": {
     "cellMetadata": {},
     "inputWidgets": {},
     "nuid": "ad7ab4e9-bd4e-4a0c-8501-d74a2f4c3f9c",
     "showTitle": false,
     "title": ""
    }
   },
   "source": [
    "##### Load ADL credentials"
   ]
  },
  {
   "cell_type": "code",
   "execution_count": 0,
   "metadata": {
    "application/vnd.databricks.v1+cell": {
     "cellMetadata": {},
     "inputWidgets": {},
     "nuid": "0c59841d-64e2-40ff-98ce-45f7f163f83d",
     "showTitle": false,
     "title": ""
    }
   },
   "outputs": [
    {
     "output_type": "display_data",
     "data": {
      "text/html": [
       "<style scoped>\n",
       "  .ansiout {\n",
       "    display: block;\n",
       "    unicode-bidi: embed;\n",
       "    white-space: pre-wrap;\n",
       "    word-wrap: break-word;\n",
       "    word-break: break-all;\n",
       "    font-family: \"Menlo\", \"Monaco\", \"Consolas\", \"Ubuntu Mono\", \"Source Code Pro\", monospace;\n",
       "    font-size: 13px;\n",
       "    color: #555;\n",
       "    margin-left: 4px;\n",
       "    line-height: 19px;\n",
       "  }\n",
       "</style>\n",
       "<div class=\"ansiout\"></div>"
      ]
     },
     "metadata": {
      "application/vnd.databricks.v1+output": {
       "addedWidgets": {},
       "arguments": {},
       "data": "<div class=\"ansiout\"></div>",
       "datasetInfos": [],
       "metadata": {},
       "removedWidgets": [],
       "type": "html"
      }
     },
     "output_type": "display_data"
    }
   ],
   "source": [
    "url = \"https://login.microsoftonline.com/{0}/oauth2/token\".format(dbutils.secrets.get(scope = \"adl_cred\", key = \"directory_id\"))\n",
    "spark.conf.set(\"dfs.adls.oauth2.access.token.provider.type\", \"ClientCredential\")\n",
    "spark.conf.set(\"dfs.adls.oauth2.client.id\", dbutils.secrets.get(scope = \"adl_cred\", key = \"client_id\"))\n",
    "spark.conf.set(\"dfs.adls.oauth2.credential\", dbutils.secrets.get(scope = \"adl_cred\", key = \"credential\"))\n",
    "spark.conf.set(\"dfs.adls.oauth2.refresh.url\", url)"
   ]
  },
  {
   "cell_type": "markdown",
   "metadata": {
    "application/vnd.databricks.v1+cell": {
     "cellMetadata": {},
     "inputWidgets": {},
     "nuid": "3bd550a2-7b0c-4851-ae84-7b585b17b564",
     "showTitle": false,
     "title": ""
    }
   },
   "source": [
    "## Load the YinzCam Realtime API data & Metadata from the ADL"
   ]
  },
  {
   "cell_type": "markdown",
   "metadata": {
    "application/vnd.databricks.v1+cell": {
     "cellMetadata": {},
     "inputWidgets": {},
     "nuid": "80117ab8-6253-4cd9-b71f-5607b0adee33",
     "showTitle": false,
     "title": ""
    }
   },
   "source": [
    "##### Define the team and urls from ADL"
   ]
  },
  {
   "cell_type": "code",
   "execution_count": 0,
   "metadata": {
    "application/vnd.databricks.v1+cell": {
     "cellMetadata": {},
     "inputWidgets": {},
     "nuid": "41c7fcfc-eb89-4223-96fe-b83255d3f931",
     "showTitle": false,
     "title": ""
    }
   },
   "outputs": [
    {
     "output_type": "display_data",
     "data": {
      "text/html": [
       "<style scoped>\n",
       "  .ansiout {\n",
       "    display: block;\n",
       "    unicode-bidi: embed;\n",
       "    white-space: pre-wrap;\n",
       "    word-wrap: break-word;\n",
       "    word-break: break-all;\n",
       "    font-family: \"Menlo\", \"Monaco\", \"Consolas\", \"Ubuntu Mono\", \"Source Code Pro\", monospace;\n",
       "    font-size: 13px;\n",
       "    color: #555;\n",
       "    margin-left: 4px;\n",
       "    line-height: 19px;\n",
       "  }\n",
       "</style>\n",
       "<div class=\"ansiout\">Working with mls team\n",
       "</div>"
      ]
     },
     "metadata": {
      "application/vnd.databricks.v1+output": {
       "addedWidgets": {
        "team": {
         "defaultValue": "",
         "label": "",
         "name": "team",
         "options": {
          "autoCreated": null,
          "validationRegex": null,
          "widgetType": "text"
         },
         "widgetType": "text"
        }
       },
       "arguments": {
        "team": "mls"
       },
       "data": "<div class=\"ansiout\">Working with mls team\n</div>",
       "datasetInfos": [],
       "metadata": {},
       "removedWidgets": [],
       "type": "html"
      }
     },
     "output_type": "display_data"
    }
   ],
   "source": [
    "dbutils.widgets.text(\"team\", \"\",\"\")\n",
    "dbutils.widgets.get(\"team\")\n",
    "team = getArgument(\"team\")\n",
    "print(\"Working with {0} team\".format(team))"
   ]
  },
  {
   "cell_type": "code",
   "execution_count": 0,
   "metadata": {
    "application/vnd.databricks.v1+cell": {
     "cellMetadata": {},
     "inputWidgets": {},
     "nuid": "6d2787cf-14f1-4397-b7a0-5a2b02205cdb",
     "showTitle": false,
     "title": ""
    }
   },
   "outputs": [
    {
     "output_type": "display_data",
     "data": {
      "text/html": [
       "<style scoped>\n",
       "  .ansiout {\n",
       "    display: block;\n",
       "    unicode-bidi: embed;\n",
       "    white-space: pre-wrap;\n",
       "    word-wrap: break-word;\n",
       "    word-break: break-all;\n",
       "    font-family: \"Menlo\", \"Monaco\", \"Consolas\", \"Ubuntu Mono\", \"Source Code Pro\", monospace;\n",
       "    font-size: 13px;\n",
       "    color: #555;\n",
       "    margin-left: 4px;\n",
       "    line-height: 19px;\n",
       "  }\n",
       "</style>\n",
       "<div class=\"ansiout\"></div>"
      ]
     },
     "metadata": {
      "application/vnd.databricks.v1+output": {
       "addedWidgets": {},
       "arguments": {},
       "data": "<div class=\"ansiout\"></div>",
       "datasetInfos": [],
       "metadata": {},
       "removedWidgets": [],
       "type": "html"
      }
     },
     "output_type": "display_data"
    }
   ],
   "source": [
    "adlurl = \"adl://mlse1.azuredatalakestore.net/yinz_cam/\"+team +\"_tor/realtime_api/\"\n",
    "meta_adl = \"adl://mlse1.azuredatalakestore.net/yinz_cam/cards_content/meta-push.csv\""
   ]
  },
  {
   "cell_type": "markdown",
   "metadata": {
    "application/vnd.databricks.v1+cell": {
     "cellMetadata": {},
     "inputWidgets": {},
     "nuid": "529414bd-2036-4ad5-9cf0-588aac066430",
     "showTitle": false,
     "title": ""
    }
   },
   "source": [
    "##### Load Realtime data (`actions` & `sessions`) and Meta data (`meta-push.csv`) from ADL "
   ]
  },
  {
   "cell_type": "code",
   "execution_count": 0,
   "metadata": {
    "application/vnd.databricks.v1+cell": {
     "cellMetadata": {},
     "inputWidgets": {},
     "nuid": "ef271fcc-ca0d-4860-bb29-a296bc25973e",
     "showTitle": false,
     "title": ""
    }
   },
   "outputs": [
    {
     "output_type": "display_data",
     "data": {
      "text/html": [
       "<style scoped>\n",
       "  .ansiout {\n",
       "    display: block;\n",
       "    unicode-bidi: embed;\n",
       "    white-space: pre-wrap;\n",
       "    word-wrap: break-word;\n",
       "    word-break: break-all;\n",
       "    font-family: \"Menlo\", \"Monaco\", \"Consolas\", \"Ubuntu Mono\", \"Source Code Pro\", monospace;\n",
       "    font-size: 13px;\n",
       "    color: #555;\n",
       "    margin-left: 4px;\n",
       "    line-height: 19px;\n",
       "  }\n",
       "</style>\n",
       "<div class=\"ansiout\"></div>"
      ]
     },
     "metadata": {
      "application/vnd.databricks.v1+output": {
       "addedWidgets": {},
       "arguments": {},
       "data": "<div class=\"ansiout\"></div>",
       "datasetInfos": [
        {
         "name": "actions",
         "schema": {
          "fields": [
           {
            "metadata": {},
            "name": "action_id",
            "nullable": true,
            "type": "string"
           },
           {
            "metadata": {},
            "name": "in_venue",
            "nullable": true,
            "type": "string"
           },
           {
            "metadata": {},
            "name": "invisible_date_time",
            "nullable": true,
            "type": "timestamp"
           },
           {
            "metadata": {},
            "name": "request_date_time",
            "nullable": true,
            "type": "timestamp"
           },
           {
            "metadata": {},
            "name": "resource_major",
            "nullable": true,
            "type": "string"
           },
           {
            "metadata": {},
            "name": "resource_minor",
            "nullable": true,
            "type": "string"
           },
           {
            "metadata": {},
            "name": "session_id",
            "nullable": true,
            "type": "string"
           },
           {
            "metadata": {},
            "name": "sort_order",
            "nullable": true,
            "type": "string"
           },
           {
            "metadata": {},
            "name": "type_major",
            "nullable": true,
            "type": "string"
           },
           {
            "metadata": {},
            "name": "type_minor",
            "nullable": true,
            "type": "string"
           },
           {
            "metadata": {},
            "name": "yinzid",
            "nullable": true,
            "type": "string"
           },
           {
            "metadata": {},
            "name": "action_date",
            "nullable": true,
            "type": "string"
           }
          ],
          "type": "struct"
         },
         "tableIdentifier": null,
         "typeStr": "pyspark.sql.dataframe.DataFrame"
        },
        {
         "name": "sessions",
         "schema": {
          "fields": [
           {
            "metadata": {},
            "name": "actions",
            "nullable": true,
            "type": "string"
           },
           {
            "metadata": {},
            "name": "app_id",
            "nullable": true,
            "type": "string"
           },
           {
            "metadata": {},
            "name": "app_version",
            "nullable": true,
            "type": "string"
           },
           {
            "metadata": {},
            "name": "carrier",
            "nullable": true,
            "type": "string"
           },
           {
            "metadata": {},
            "name": "device_adid",
            "nullable": true,
            "type": "string"
           },
           {
            "metadata": {},
            "name": "device_generated_id",
            "nullable": true,
            "type": "string"
           },
           {
            "metadata": {},
            "name": "device_id",
            "nullable": true,
            "type": "string"
           },
           {
            "metadata": {},
            "name": "end_date_time",
            "nullable": true,
            "type": "timestamp"
           },
           {
            "metadata": {},
            "name": "hardware_device_id",
            "nullable": true,
            "type": "integer"
           },
           {
            "metadata": {},
            "name": "ses_id",
            "nullable": true,
            "type": "string"
           },
           {
            "metadata": {},
            "name": "mcc",
            "nullable": true,
            "type": "string"
           },
           {
            "metadata": {},
            "name": "mdn",
            "nullable": true,
            "type": "string"
           },
           {
            "metadata": {},
            "name": "mnc",
            "nullable": true,
            "type": "string"
           },
           {
            "metadata": {},
            "name": "os_version",
            "nullable": true,
            "type": "string"
           },
           {
            "metadata": {},
            "name": "start_date_time",
            "nullable": true,
            "type": "timestamp"
           },
           {
            "metadata": {},
            "name": "session_date",
            "nullable": true,
            "type": "string"
           }
          ],
          "type": "struct"
         },
         "tableIdentifier": null,
         "typeStr": "pyspark.sql.dataframe.DataFrame"
        },
        {
         "name": "meta",
         "schema": {
          "fields": [
           {
            "metadata": {},
            "name": "id",
            "nullable": true,
            "type": "string"
           },
           {
            "metadata": {},
            "name": "app_id",
            "nullable": true,
            "type": "string"
           },
           {
            "metadata": {},
            "name": "send_time",
            "nullable": true,
            "type": "timestamp"
           },
           {
            "metadata": {},
            "name": "tag",
            "nullable": true,
            "type": "string"
           },
           {
            "metadata": {},
            "name": "alert",
            "nullable": true,
            "type": "string"
           },
           {
            "metadata": {},
            "name": "has_link",
            "nullable": true,
            "type": "string"
           },
           {
            "metadata": {},
            "name": "subscriptions_targeted",
            "nullable": true,
            "type": "string"
           }
          ],
          "type": "struct"
         },
         "tableIdentifier": null,
         "typeStr": "pyspark.sql.dataframe.DataFrame"
        }
       ],
       "metadata": {},
       "removedWidgets": [],
       "type": "html"
      }
     },
     "output_type": "display_data"
    }
   ],
   "source": [
    "actions  = (spark.read.csv(adlurl+'actions',header=True)\n",
    "            .drop_duplicates()\n",
    "            .withColumnRenamed('id','action_id')\n",
    "            .withColumn('request_date_time',from_utc_timestamp(col('request_date_time').cast(TimestampType()), \"America/Toronto\"))\n",
    "            .withColumn('invisible_date_time',from_utc_timestamp(col('invisible_date_time').cast(TimestampType()), \"America/Toronto\"))\n",
    "            .withColumn('action_date',date_format('request_date_time', 'yyyy-MM-dd'))\n",
    "           )\n",
    "sessions = (spark.read.csv(adlurl+'sessions',header=True)\n",
    "            .withColumnRenamed('id','ses_id')\n",
    "            .withColumn('start_date_time', from_utc_timestamp(col('start_date_time').cast(TimestampType()), \"America/Toronto\"))\n",
    "            .withColumn('end_date_time', from_utc_timestamp(col('end_date_time').cast(TimestampType()), \"America/Toronto\"))\n",
    "            .withColumn('session_date',date_format('start_date_time', 'yyyy-MM-dd'))\n",
    "            .orderBy('end_date_time',ascending=False)\n",
    "            .drop_duplicates(subset=['ses_id'])\n",
    "            .where(col('ses_id').isNotNull())\n",
    "            .withColumn(\"hardware_device_id\",col(\"hardware_device_id\").cast(IntegerType()))\n",
    "           )\n",
    "meta = spark.read.csv(meta_adl, header = True).withColumn('send_time',from_utc_timestamp(col('send_time').cast(TimestampType()), \"America/Toronto\"))"
   ]
  },
  {
   "cell_type": "markdown",
   "metadata": {
    "application/vnd.databricks.v1+cell": {
     "cellMetadata": {},
     "inputWidgets": {},
     "nuid": "d36a222a-1ecd-4ff4-8c2d-4c73c86e59d3",
     "showTitle": false,
     "title": ""
    }
   },
   "source": [
    "##### Filter `actions` for Push notifications only"
   ]
  },
  {
   "cell_type": "code",
   "execution_count": 0,
   "metadata": {
    "application/vnd.databricks.v1+cell": {
     "cellMetadata": {},
     "inputWidgets": {},
     "nuid": "83c88530-0b93-4508-bb18-912f402d95c0",
     "showTitle": false,
     "title": ""
    }
   },
   "outputs": [
    {
     "output_type": "display_data",
     "data": {
      "text/html": [
       "<style scoped>\n",
       "  .ansiout {\n",
       "    display: block;\n",
       "    unicode-bidi: embed;\n",
       "    white-space: pre-wrap;\n",
       "    word-wrap: break-word;\n",
       "    word-break: break-all;\n",
       "    font-family: \"Menlo\", \"Monaco\", \"Consolas\", \"Ubuntu Mono\", \"Source Code Pro\", monospace;\n",
       "    font-size: 13px;\n",
       "    color: #555;\n",
       "    margin-left: 4px;\n",
       "    line-height: 19px;\n",
       "  }\n",
       "</style>\n",
       "<div class=\"ansiout\"></div>"
      ]
     },
     "metadata": {
      "application/vnd.databricks.v1+output": {
       "addedWidgets": {},
       "arguments": {},
       "data": "<div class=\"ansiout\"></div>",
       "datasetInfos": [
        {
         "name": "push",
         "schema": {
          "fields": [
           {
            "metadata": {},
            "name": "action_id",
            "nullable": true,
            "type": "string"
           },
           {
            "metadata": {},
            "name": "in_venue",
            "nullable": true,
            "type": "string"
           },
           {
            "metadata": {},
            "name": "invisible_date_time",
            "nullable": true,
            "type": "timestamp"
           },
           {
            "metadata": {},
            "name": "request_date_time",
            "nullable": true,
            "type": "timestamp"
           },
           {
            "metadata": {},
            "name": "resource_major",
            "nullable": true,
            "type": "string"
           },
           {
            "metadata": {},
            "name": "resource_minor",
            "nullable": true,
            "type": "string"
           },
           {
            "metadata": {},
            "name": "session_id",
            "nullable": true,
            "type": "string"
           },
           {
            "metadata": {},
            "name": "sort_order",
            "nullable": true,
            "type": "string"
           },
           {
            "metadata": {},
            "name": "type_major",
            "nullable": true,
            "type": "string"
           },
           {
            "metadata": {},
            "name": "type_minor",
            "nullable": true,
            "type": "string"
           },
           {
            "metadata": {},
            "name": "yinzid",
            "nullable": true,
            "type": "string"
           },
           {
            "metadata": {},
            "name": "action_date",
            "nullable": true,
            "type": "string"
           }
          ],
          "type": "struct"
         },
         "tableIdentifier": null,
         "typeStr": "pyspark.sql.dataframe.DataFrame"
        }
       ],
       "metadata": {},
       "removedWidgets": [],
       "type": "html"
      }
     },
     "output_type": "display_data"
    }
   ],
   "source": [
    "push = (actions[actions[\"type_major\"].like('%PUSH%')]).cache()"
   ]
  },
  {
   "cell_type": "markdown",
   "metadata": {
    "application/vnd.databricks.v1+cell": {
     "cellMetadata": {},
     "inputWidgets": {},
     "nuid": "0e0997de-4666-424f-b709-1fb110067bcd",
     "showTitle": false,
     "title": ""
    }
   },
   "source": [
    "## Join `push` (from actions) and `sessions` into a single table\n",
    "\n",
    "(to get information about the `device_id`)"
   ]
  },
  {
   "cell_type": "code",
   "execution_count": 0,
   "metadata": {
    "application/vnd.databricks.v1+cell": {
     "cellMetadata": {},
     "inputWidgets": {},
     "nuid": "93a66694-a6c5-4bdd-893e-f83da5d8bd98",
     "showTitle": false,
     "title": ""
    }
   },
   "outputs": [
    {
     "output_type": "display_data",
     "data": {
      "text/html": [
       "<style scoped>\n",
       "  .ansiout {\n",
       "    display: block;\n",
       "    unicode-bidi: embed;\n",
       "    white-space: pre-wrap;\n",
       "    word-wrap: break-word;\n",
       "    word-break: break-all;\n",
       "    font-family: \"Menlo\", \"Monaco\", \"Consolas\", \"Ubuntu Mono\", \"Source Code Pro\", monospace;\n",
       "    font-size: 13px;\n",
       "    color: #555;\n",
       "    margin-left: 4px;\n",
       "    line-height: 19px;\n",
       "  }\n",
       "</style>\n",
       "<div class=\"ansiout\"></div>"
      ]
     },
     "metadata": {
      "application/vnd.databricks.v1+output": {
       "addedWidgets": {},
       "arguments": {},
       "data": "<div class=\"ansiout\"></div>",
       "datasetInfos": [
        {
         "name": "push_devid",
         "schema": {
          "fields": [
           {
            "metadata": {},
            "name": "session_id",
            "nullable": true,
            "type": "string"
           },
           {
            "metadata": {},
            "name": "action_date",
            "nullable": true,
            "type": "string"
           },
           {
            "metadata": {},
            "name": "type_major",
            "nullable": true,
            "type": "string"
           },
           {
            "metadata": {},
            "name": "type_minor",
            "nullable": true,
            "type": "string"
           },
           {
            "metadata": {},
            "name": "yinzid",
            "nullable": true,
            "type": "string"
           },
           {
            "metadata": {},
            "name": "resource_major",
            "nullable": true,
            "type": "string"
           },
           {
            "metadata": {},
            "name": "device_id",
            "nullable": true,
            "type": "string"
           }
          ],
          "type": "struct"
         },
         "tableIdentifier": null,
         "typeStr": "pyspark.sql.dataframe.DataFrame"
        }
       ],
       "metadata": {},
       "removedWidgets": [],
       "type": "html"
      }
     },
     "output_type": "display_data"
    }
   ],
   "source": [
    "push_devid =(push\n",
    "        .select(\"action_date\", \"session_id\", \"type_major\", \"type_minor\", \"yinzid\", \"resource_major\")\n",
    "        .join(sessions.withColumn(\"session_id\", sessions.device_generated_id)\n",
    "                      .select(\"session_id\",\"device_id\"),\n",
    "              \"session_id\",\n",
    "              \"left\"\n",
    "             )\n",
    "       ).cache()"
   ]
  },
  {
   "cell_type": "markdown",
   "metadata": {
    "application/vnd.databricks.v1+cell": {
     "cellMetadata": {},
     "inputWidgets": {},
     "nuid": "975691e2-49cf-4efb-896a-04f285ffbc05",
     "showTitle": false,
     "title": ""
    }
   },
   "source": [
    "## Aggregate `Push` actions (`click`, `view`, `open`)\n",
    "\n",
    "Perform the aggregation in seperate dataframes to identify registered and non-registered\n",
    "* registered_user : yinzid = NotNull & device_id= NotNull\n",
    "* non_registered_user : yinzid=NULL & device_id = NotNull."
   ]
  },
  {
   "cell_type": "code",
   "execution_count": 0,
   "metadata": {
    "application/vnd.databricks.v1+cell": {
     "cellMetadata": {},
     "inputWidgets": {},
     "nuid": "0360cf36-eaef-44fb-a6e5-ceed3f232507",
     "showTitle": false,
     "title": ""
    }
   },
   "outputs": [
    {
     "output_type": "display_data",
     "data": {
      "text/html": [
       "<style scoped>\n",
       "  .ansiout {\n",
       "    display: block;\n",
       "    unicode-bidi: embed;\n",
       "    white-space: pre-wrap;\n",
       "    word-wrap: break-word;\n",
       "    word-break: break-all;\n",
       "    font-family: \"Menlo\", \"Monaco\", \"Consolas\", \"Ubuntu Mono\", \"Source Code Pro\", monospace;\n",
       "    font-size: 13px;\n",
       "    color: #555;\n",
       "    margin-left: 4px;\n",
       "    line-height: 19px;\n",
       "  }\n",
       "</style>\n",
       "<div class=\"ansiout\"></div>"
      ]
     },
     "metadata": {
      "application/vnd.databricks.v1+output": {
       "addedWidgets": {},
       "arguments": {},
       "data": "<div class=\"ansiout\"></div>",
       "datasetInfos": [
        {
         "name": "total_push",
         "schema": {
          "fields": [
           {
            "metadata": {},
            "name": "action_date",
            "nullable": true,
            "type": "string"
           },
           {
            "metadata": {},
            "name": "type_minor",
            "nullable": true,
            "type": "string"
           },
           {
            "metadata": {},
            "name": "total_push_clicks",
            "nullable": true,
            "type": "long"
           },
           {
            "metadata": {},
            "name": "total_unique_push_clicks",
            "nullable": false,
            "type": "long"
           },
           {
            "metadata": {},
            "name": "total_push_views",
            "nullable": true,
            "type": "long"
           },
           {
            "metadata": {},
            "name": "total_unique_push_views",
            "nullable": false,
            "type": "long"
           },
           {
            "metadata": {},
            "name": "total_opened_app",
            "nullable": true,
            "type": "long"
           },
           {
            "metadata": {},
            "name": "total_unique_opened_app",
            "nullable": false,
            "type": "long"
           },
           {
            "metadata": {},
            "name": "total_reg_push_clicks",
            "nullable": true,
            "type": "long"
           },
           {
            "metadata": {},
            "name": "total_non_reg_push_clicks",
            "nullable": true,
            "type": "long"
           }
          ],
          "type": "struct"
         },
         "tableIdentifier": null,
         "typeStr": "pyspark.sql.dataframe.DataFrame"
        }
       ],
       "metadata": {},
       "removedWidgets": [],
       "type": "html"
      }
     },
     "output_type": "display_data"
    }
   ],
   "source": [
    "total_push = (push_devid\n",
    "                .groupBy([\"action_date\", \"type_minor\"])\n",
    "                .agg(sum(when(col(\"type_major\").like(\"PUSH_CLICK\"), 1).otherwise(0)).alias(\"total_push_clicks\"),\n",
    "                     countDistinct(when(col(\"type_major\").like(\"PUSH_CLICK\"), col(\"device_id\"))).alias(\"total_unique_push_clicks\"),\n",
    "                     sum(when(col(\"type_major\").like(\"PUSH_VIEW\"), 1).otherwise(0)).alias(\"total_push_views\"),\n",
    "                     countDistinct(when(col(\"type_major\").like(\"PUSH_VIEW\"), col(\"device_id\"))).alias(\"total_unique_push_views\"),\n",
    "                     sum(when(col(\"type_major\").like(\"PUSH_OPENED_APP\"), 1).otherwise(0)).alias(\"total_opened_app\"),\n",
    "                     countDistinct(when(col(\"type_major\").like(\"PUSH_OPENED_APP\"), col(\"device_id\"))).alias(\"total_unique_opened_app\"),\n",
    "                     sum(when(col(\"yinzid\").isNotNull() & col(\"device_id\").isNotNull() & col(\"type_major\").like(\"PUSH_CLICK\"), 1).otherwise(0)).alias(\"total_reg_push_clicks\"),\n",
    "                     sum(when(col(\"yinzid\").isNull() & col(\"device_id\").isNotNull() & col(\"type_major\").like(\"PUSH_CLICK\"), 1).otherwise(0)).alias(\"total_non_reg_push_clicks\")\n",
    "                    )\n",
    "               ).cache()\n"
   ]
  },
  {
   "cell_type": "code",
   "execution_count": 0,
   "metadata": {
    "application/vnd.databricks.v1+cell": {
     "cellMetadata": {},
     "inputWidgets": {},
     "nuid": "a2e33a75-4eb3-4f52-b8c0-14c7d88b9d60",
     "showTitle": false,
     "title": ""
    }
   },
   "outputs": [
    {
     "output_type": "display_data",
     "data": {
      "text/html": [
       "<style scoped>\n",
       "  .ansiout {\n",
       "    display: block;\n",
       "    unicode-bidi: embed;\n",
       "    white-space: pre-wrap;\n",
       "    word-wrap: break-word;\n",
       "    word-break: break-all;\n",
       "    font-family: \"Menlo\", \"Monaco\", \"Consolas\", \"Ubuntu Mono\", \"Source Code Pro\", monospace;\n",
       "    font-size: 13px;\n",
       "    color: #555;\n",
       "    margin-left: 4px;\n",
       "    line-height: 19px;\n",
       "  }\n",
       "</style>\n",
       "<div class=\"ansiout\"></div>"
      ]
     },
     "metadata": {
      "application/vnd.databricks.v1+output": {
       "addedWidgets": {},
       "arguments": {},
       "data": "<div class=\"ansiout\"></div>",
       "datasetInfos": [],
       "metadata": {},
       "removedWidgets": [],
       "type": "html"
      }
     },
     "output_type": "display_data"
    }
   ],
   "source": [
    "# display(meta)"
   ]
  },
  {
   "cell_type": "code",
   "execution_count": 0,
   "metadata": {
    "application/vnd.databricks.v1+cell": {
     "cellMetadata": {},
     "inputWidgets": {},
     "nuid": "1d9a8d5c-3fad-4684-9b6f-4f85ecbe5d5d",
     "showTitle": false,
     "title": ""
    }
   },
   "outputs": [
    {
     "output_type": "display_data",
     "data": {
      "text/html": [
       "<style scoped>\n",
       "  .ansiout {\n",
       "    display: block;\n",
       "    unicode-bidi: embed;\n",
       "    white-space: pre-wrap;\n",
       "    word-wrap: break-word;\n",
       "    word-break: break-all;\n",
       "    font-family: \"Menlo\", \"Monaco\", \"Consolas\", \"Ubuntu Mono\", \"Source Code Pro\", monospace;\n",
       "    font-size: 13px;\n",
       "    color: #555;\n",
       "    margin-left: 4px;\n",
       "    line-height: 19px;\n",
       "  }\n",
       "</style>\n",
       "<div class=\"ansiout\"></div>"
      ]
     },
     "metadata": {
      "application/vnd.databricks.v1+output": {
       "addedWidgets": {},
       "arguments": {},
       "data": "<div class=\"ansiout\"></div>",
       "datasetInfos": [],
       "metadata": {},
       "removedWidgets": [],
       "type": "html"
      }
     },
     "output_type": "display_data"
    }
   ],
   "source": [
    "# display(total_push.where(col('type_minor') == '294230'))"
   ]
  },
  {
   "cell_type": "markdown",
   "metadata": {
    "application/vnd.databricks.v1+cell": {
     "cellMetadata": {},
     "inputWidgets": {},
     "nuid": "d5e771f0-75cd-464f-a72c-cf6ccc1f68fe",
     "showTitle": false,
     "title": ""
    }
   },
   "source": [
    "##### Join push and metadata"
   ]
  },
  {
   "cell_type": "code",
   "execution_count": 0,
   "metadata": {
    "application/vnd.databricks.v1+cell": {
     "cellMetadata": {},
     "inputWidgets": {},
     "nuid": "fd849c2d-2b31-417d-8c4b-ad338e32065c",
     "showTitle": false,
     "title": ""
    }
   },
   "outputs": [
    {
     "output_type": "display_data",
     "data": {
      "text/html": [
       "<style scoped>\n",
       "  .ansiout {\n",
       "    display: block;\n",
       "    unicode-bidi: embed;\n",
       "    white-space: pre-wrap;\n",
       "    word-wrap: break-word;\n",
       "    word-break: break-all;\n",
       "    font-family: \"Menlo\", \"Monaco\", \"Consolas\", \"Ubuntu Mono\", \"Source Code Pro\", monospace;\n",
       "    font-size: 13px;\n",
       "    color: #555;\n",
       "    margin-left: 4px;\n",
       "    line-height: 19px;\n",
       "  }\n",
       "</style>\n",
       "<div class=\"ansiout\"></div>"
      ]
     },
     "metadata": {
      "application/vnd.databricks.v1+output": {
       "addedWidgets": {},
       "arguments": {},
       "data": "<div class=\"ansiout\"></div>",
       "datasetInfos": [
        {
         "name": "meta_push_ini",
         "schema": {
          "fields": [
           {
            "metadata": {},
            "name": "action_date",
            "nullable": true,
            "type": "string"
           },
           {
            "metadata": {},
            "name": "type_minor",
            "nullable": true,
            "type": "string"
           },
           {
            "metadata": {},
            "name": "total_push_clicks",
            "nullable": true,
            "type": "long"
           },
           {
            "metadata": {},
            "name": "total_unique_push_clicks",
            "nullable": false,
            "type": "long"
           },
           {
            "metadata": {},
            "name": "total_push_views",
            "nullable": true,
            "type": "long"
           },
           {
            "metadata": {},
            "name": "total_unique_push_views",
            "nullable": false,
            "type": "long"
           },
           {
            "metadata": {},
            "name": "total_opened_app",
            "nullable": true,
            "type": "long"
           },
           {
            "metadata": {},
            "name": "total_unique_opened_app",
            "nullable": false,
            "type": "long"
           },
           {
            "metadata": {},
            "name": "total_reg_push_clicks",
            "nullable": true,
            "type": "long"
           },
           {
            "metadata": {},
            "name": "total_non_reg_push_clicks",
            "nullable": true,
            "type": "long"
           },
           {
            "metadata": {},
            "name": "app_id",
            "nullable": true,
            "type": "string"
           },
           {
            "metadata": {},
            "name": "send_time",
            "nullable": true,
            "type": "timestamp"
           },
           {
            "metadata": {},
            "name": "tag",
            "nullable": true,
            "type": "string"
           },
           {
            "metadata": {},
            "name": "alert",
            "nullable": true,
            "type": "string"
           },
           {
            "metadata": {},
            "name": "has_link",
            "nullable": true,
            "type": "string"
           },
           {
            "metadata": {},
            "name": "subscriptions_targeted",
            "nullable": true,
            "type": "string"
           }
          ],
          "type": "struct"
         },
         "tableIdentifier": null,
         "typeStr": "pyspark.sql.dataframe.DataFrame"
        }
       ],
       "metadata": {},
       "removedWidgets": [],
       "type": "html"
      }
     },
     "output_type": "display_data"
    }
   ],
   "source": [
    "meta_push_ini = total_push.join(meta, total_push['type_minor'] == meta['id']).drop(col('id'))"
   ]
  },
  {
   "cell_type": "code",
   "execution_count": 0,
   "metadata": {
    "application/vnd.databricks.v1+cell": {
     "cellMetadata": {},
     "inputWidgets": {},
     "nuid": "7ec200b3-9ee2-41d9-a0eb-6b1587d68b42",
     "showTitle": false,
     "title": ""
    }
   },
   "outputs": [
    {
     "output_type": "display_data",
     "data": {
      "text/html": [
       "<style scoped>\n",
       "  .ansiout {\n",
       "    display: block;\n",
       "    unicode-bidi: embed;\n",
       "    white-space: pre-wrap;\n",
       "    word-wrap: break-word;\n",
       "    word-break: break-all;\n",
       "    font-family: \"Menlo\", \"Monaco\", \"Consolas\", \"Ubuntu Mono\", \"Source Code Pro\", monospace;\n",
       "    font-size: 13px;\n",
       "    color: #555;\n",
       "    margin-left: 4px;\n",
       "    line-height: 19px;\n",
       "  }\n",
       "</style>\n",
       "<div class=\"ansiout\"></div>"
      ]
     },
     "metadata": {
      "application/vnd.databricks.v1+output": {
       "addedWidgets": {},
       "arguments": {},
       "data": "<div class=\"ansiout\"></div>",
       "datasetInfos": [],
       "metadata": {},
       "removedWidgets": [],
       "type": "html"
      }
     },
     "output_type": "display_data"
    }
   ],
   "source": [
    "# display(meta_push_ini)"
   ]
  },
  {
   "cell_type": "code",
   "execution_count": 0,
   "metadata": {
    "application/vnd.databricks.v1+cell": {
     "cellMetadata": {},
     "inputWidgets": {},
     "nuid": "77e4ec48-771c-4b86-8a56-994e6e66689f",
     "showTitle": false,
     "title": ""
    }
   },
   "outputs": [
    {
     "output_type": "display_data",
     "data": {
      "text/html": [
       "<style scoped>\n",
       "  .ansiout {\n",
       "    display: block;\n",
       "    unicode-bidi: embed;\n",
       "    white-space: pre-wrap;\n",
       "    word-wrap: break-word;\n",
       "    word-break: break-all;\n",
       "    font-family: \"Menlo\", \"Monaco\", \"Consolas\", \"Ubuntu Mono\", \"Source Code Pro\", monospace;\n",
       "    font-size: 13px;\n",
       "    color: #555;\n",
       "    margin-left: 4px;\n",
       "    line-height: 19px;\n",
       "  }\n",
       "</style>\n",
       "<div class=\"ansiout\"></div>"
      ]
     },
     "metadata": {
      "application/vnd.databricks.v1+output": {
       "addedWidgets": {},
       "arguments": {},
       "data": "<div class=\"ansiout\"></div>",
       "datasetInfos": [
        {
         "name": "meta_push",
         "schema": {
          "fields": [
           {
            "metadata": {},
            "name": "action_date",
            "nullable": true,
            "type": "string"
           },
           {
            "metadata": {},
            "name": "type_minor",
            "nullable": true,
            "type": "string"
           },
           {
            "metadata": {},
            "name": "total_push_clicks",
            "nullable": true,
            "type": "long"
           },
           {
            "metadata": {},
            "name": "total_unique_push_clicks",
            "nullable": false,
            "type": "long"
           },
           {
            "metadata": {},
            "name": "total_push_views",
            "nullable": true,
            "type": "long"
           },
           {
            "metadata": {},
            "name": "total_unique_push_views",
            "nullable": false,
            "type": "long"
           },
           {
            "metadata": {},
            "name": "total_opened_app",
            "nullable": true,
            "type": "long"
           },
           {
            "metadata": {},
            "name": "total_unique_opened_app",
            "nullable": false,
            "type": "long"
           },
           {
            "metadata": {},
            "name": "total_reg_push_clicks",
            "nullable": true,
            "type": "long"
           },
           {
            "metadata": {},
            "name": "total_non_reg_push_clicks",
            "nullable": true,
            "type": "long"
           },
           {
            "metadata": {},
            "name": "app_id",
            "nullable": true,
            "type": "string"
           },
           {
            "metadata": {},
            "name": "send_time",
            "nullable": true,
            "type": "timestamp"
           },
           {
            "metadata": {},
            "name": "tag",
            "nullable": true,
            "type": "string"
           },
           {
            "metadata": {},
            "name": "alert",
            "nullable": true,
            "type": "string"
           },
           {
            "metadata": {},
            "name": "has_link",
            "nullable": true,
            "type": "string"
           },
           {
            "metadata": {},
            "name": "subscriptions_targeted",
            "nullable": false,
            "type": "integer"
           }
          ],
          "type": "struct"
         },
         "tableIdentifier": null,
         "typeStr": "pyspark.sql.dataframe.DataFrame"
        }
       ],
       "metadata": {},
       "removedWidgets": [],
       "type": "html"
      }
     },
     "output_type": "display_data"
    }
   ],
   "source": [
    "# Fill empty cells\n",
    "meta_push = meta_push_ini.withColumn('subscriptions_targeted',meta_push_ini.subscriptions_targeted.cast('int')).na.fill({'subscriptions_targeted':0})"
   ]
  },
  {
   "cell_type": "markdown",
   "metadata": {
    "application/vnd.databricks.v1+cell": {
     "cellMetadata": {},
     "inputWidgets": {},
     "nuid": "17697013-eee1-41ba-a033-c4e699dba755",
     "showTitle": false,
     "title": ""
    }
   },
   "source": [
    "### Write to SQL"
   ]
  },
  {
   "cell_type": "code",
   "execution_count": 0,
   "metadata": {
    "application/vnd.databricks.v1+cell": {
     "cellMetadata": {},
     "inputWidgets": {},
     "nuid": "9197fde0-dd95-4a4a-857f-0f7830b5bc26",
     "showTitle": false,
     "title": ""
    }
   },
   "outputs": [
    {
     "output_type": "display_data",
     "data": {
      "text/html": [
       "<style scoped>\n",
       "  .ansiout {\n",
       "    display: block;\n",
       "    unicode-bidi: embed;\n",
       "    white-space: pre-wrap;\n",
       "    word-wrap: break-word;\n",
       "    word-break: break-all;\n",
       "    font-family: \"Menlo\", \"Monaco\", \"Consolas\", \"Ubuntu Mono\", \"Source Code Pro\", monospace;\n",
       "    font-size: 13px;\n",
       "    color: #555;\n",
       "    margin-left: 4px;\n",
       "    line-height: 19px;\n",
       "  }\n",
       "</style>\n",
       "<div class=\"ansiout\"></div>"
      ]
     },
     "metadata": {
      "application/vnd.databricks.v1+output": {
       "addedWidgets": {},
       "arguments": {},
       "data": "<div class=\"ansiout\"></div>",
       "datasetInfos": [],
       "metadata": {},
       "removedWidgets": [],
       "type": "html"
      }
     },
     "output_type": "display_data"
    }
   ],
   "source": [
    "sqlserver = dbutils.secrets.get(scope = \"jdbc\", key = \"sqlserver\")\n",
    "port = '1433'\n",
    "database = 'mlse_freq'\n",
    "user = dbutils.secrets.get(scope = \"jdbc\", key = \"username\")\n",
    "pswd = dbutils.secrets.get(scope = \"jdbc\", key = \"password\")\n",
    "url = 'jdbc:sqlserver://' + sqlserver + ':' + port + ';database=' + database"
   ]
  },
  {
   "cell_type": "code",
   "execution_count": 0,
   "metadata": {
    "application/vnd.databricks.v1+cell": {
     "cellMetadata": {},
     "inputWidgets": {},
     "nuid": "1669919a-5610-4908-9d75-9c3324510046",
     "showTitle": false,
     "title": ""
    }
   },
   "outputs": [
    {
     "output_type": "display_data",
     "data": {
      "text/html": [
       "<style scoped>\n",
       "  .ansiout {\n",
       "    display: block;\n",
       "    unicode-bidi: embed;\n",
       "    white-space: pre-wrap;\n",
       "    word-wrap: break-word;\n",
       "    word-break: break-all;\n",
       "    font-family: \"Menlo\", \"Monaco\", \"Consolas\", \"Ubuntu Mono\", \"Source Code Pro\", monospace;\n",
       "    font-size: 13px;\n",
       "    color: #555;\n",
       "    margin-left: 4px;\n",
       "    line-height: 19px;\n",
       "  }\n",
       "</style>\n",
       "<div class=\"ansiout\"></div>"
      ]
     },
     "metadata": {
      "application/vnd.databricks.v1+output": {
       "addedWidgets": {},
       "arguments": {},
       "data": "<div class=\"ansiout\"></div>",
       "datasetInfos": [],
       "metadata": {},
       "removedWidgets": [],
       "type": "html"
      }
     },
     "output_type": "display_data"
    }
   ],
   "source": [
    "(meta_push\n",
    "   .coalesce(8)\n",
    "   .write\n",
    "   .option('user', user)\n",
    "   .option('password', pswd)\n",
    "   .jdbc(url, team + \"_push\", mode = 'overwrite' )\n",
    ")"
   ]
  },
  {
   "cell_type": "code",
   "execution_count": 0,
   "metadata": {
    "application/vnd.databricks.v1+cell": {
     "cellMetadata": {},
     "inputWidgets": {},
     "nuid": "5a73c22d-29df-47a0-a038-1aa85dd5a2e2",
     "showTitle": false,
     "title": ""
    }
   },
   "outputs": [],
   "source": []
  }
 ],
 "metadata": {
  "application/vnd.databricks.v1+notebook": {
   "dashboards": [],
   "language": "python",
   "notebookMetadata": {
    "pythonIndentUnit": 2
   },
   "notebookName": "push_notifications",
   "widgets": {
    "team": {
     "currentValue": "mls",
     "nuid": "90ff5d6d-e173-4701-b374-11854428c73f",
     "widgetInfo": {
      "widgetType": "text",
      "defaultValue": "",
      "label": "",
      "name": "team",
      "options": {
       "widgetType": "text",
       "autoCreated": null,
       "validationRegex": null
      }
     }
    }
   }
  }
 },
 "nbformat": 4,
 "nbformat_minor": 0
}
