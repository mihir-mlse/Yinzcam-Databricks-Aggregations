{
 "cells": [
  {
   "cell_type": "markdown",
   "metadata": {
    "application/vnd.databricks.v1+cell": {
     "cellMetadata": {},
     "inputWidgets": {},
     "nuid": "2a752279-a2b2-4fe4-9844-ca51ea211f2b",
     "showTitle": false,
     "title": ""
    }
   },
   "source": [
    "# Daily Active User Table\n",
    "\n",
    "## Description \n",
    "\n",
    "This notebook will calculate the daily active users for the team. \n",
    "\n",
    "## Preprocessing\n",
    "\n",
    "* Load the YinzCam Realtime API Data from the ADL\n",
    "* Join the Realtime data (`actions`, `sessions`, `hardware`, `geoip`) into a single table\n",
    "* Aggregate users (`yinzid` or `device_id`) by `session_date` to get the Daily Active Users\n",
    "* Additional \"Active User\" caluclation ideas not utilized\n",
    "* Errors when grouping the active_users\n",
    "\n",
    "## Output\n",
    "\n",
    "SQL Table to MS SQL\n",
    "* `team_tor_active_users`: session_date, city_name, manufacturer, country_name, postal_code, subdivision1_name, active_users, active_devices. Where `team in {nhl,tfc,nba}`\n",
    "\n",
    "## QA \n",
    "* Jose Nandez, Data Scientist, Jose.Nandez@MLSE.com (Primary)\n",
    "* Nicole Ridout, Data Engineer, Nicole.Ridout@MLSE.com\n",
    "* Farah Bastien, Manager of Data Science, Farah.Bastien@MLSE.com"
   ]
  },
  {
   "cell_type": "markdown",
   "metadata": {
    "application/vnd.databricks.v1+cell": {
     "cellMetadata": {},
     "inputWidgets": {},
     "nuid": "afc23cc0-f173-41cb-a654-93ec4b8cea82",
     "showTitle": false,
     "title": ""
    }
   },
   "source": [
    "##### Load the necessary functions from `PySpark`"
   ]
  },
  {
   "cell_type": "code",
   "execution_count": 0,
   "metadata": {
    "application/vnd.databricks.v1+cell": {
     "cellMetadata": {},
     "inputWidgets": {},
     "nuid": "b7ac4121-a331-469c-9bcf-a906d17cc5fc",
     "showTitle": false,
     "title": ""
    }
   },
   "outputs": [
    {
     "output_type": "display_data",
     "data": {
      "text/html": [
       "<style scoped>\n",
       "  .ansiout {\n",
       "    display: block;\n",
       "    unicode-bidi: embed;\n",
       "    white-space: pre-wrap;\n",
       "    word-wrap: break-word;\n",
       "    word-break: break-all;\n",
       "    font-family: \"Menlo\", \"Monaco\", \"Consolas\", \"Ubuntu Mono\", \"Source Code Pro\", monospace;\n",
       "    font-size: 13px;\n",
       "    color: #555;\n",
       "    margin-left: 4px;\n",
       "    line-height: 19px;\n",
       "  }\n",
       "</style>\n",
       "<div class=\"ansiout\"></div>"
      ]
     },
     "metadata": {
      "application/vnd.databricks.v1+output": {
       "addedWidgets": {},
       "arguments": {},
       "data": "<div class=\"ansiout\"></div>",
       "datasetInfos": [],
       "metadata": {},
       "removedWidgets": [],
       "type": "html"
      }
     },
     "output_type": "display_data"
    }
   ],
   "source": [
    "from pyspark.sql.functions import col,date_format,from_utc_timestamp, unix_timestamp, sum, count, countDistinct, lit, abs\n",
    "from pyspark.sql.types import TimestampType, IntegerType"
   ]
  },
  {
   "cell_type": "markdown",
   "metadata": {
    "application/vnd.databricks.v1+cell": {
     "cellMetadata": {},
     "inputWidgets": {},
     "nuid": "180f182a-a3a2-4d7e-994d-fc50151e4dc5",
     "showTitle": false,
     "title": ""
    }
   },
   "source": [
    "##### Load ADL credentials\n",
    "The following cell has the `Spark` configuration for accessing the Azure Data Lake, and it uses *masked* credentials stored in DataBricks"
   ]
  },
  {
   "cell_type": "code",
   "execution_count": 0,
   "metadata": {
    "application/vnd.databricks.v1+cell": {
     "cellMetadata": {},
     "inputWidgets": {},
     "nuid": "07e12379-fbe1-485b-b884-5608042aaaaa",
     "showTitle": false,
     "title": ""
    }
   },
   "outputs": [
    {
     "output_type": "display_data",
     "data": {
      "text/html": [
       "<style scoped>\n",
       "  .ansiout {\n",
       "    display: block;\n",
       "    unicode-bidi: embed;\n",
       "    white-space: pre-wrap;\n",
       "    word-wrap: break-word;\n",
       "    word-break: break-all;\n",
       "    font-family: \"Menlo\", \"Monaco\", \"Consolas\", \"Ubuntu Mono\", \"Source Code Pro\", monospace;\n",
       "    font-size: 13px;\n",
       "    color: #555;\n",
       "    margin-left: 4px;\n",
       "    line-height: 19px;\n",
       "  }\n",
       "</style>\n",
       "<div class=\"ansiout\"></div>"
      ]
     },
     "metadata": {
      "application/vnd.databricks.v1+output": {
       "addedWidgets": {},
       "arguments": {},
       "data": "<div class=\"ansiout\"></div>",
       "datasetInfos": [],
       "metadata": {},
       "removedWidgets": [],
       "type": "html"
      }
     },
     "output_type": "display_data"
    }
   ],
   "source": [
    "url = \"https://login.microsoftonline.com/{0}/oauth2/token\".format(dbutils.secrets.get(scope = \"adl_cred\", key = \"directory_id\"))\n",
    "spark.conf.set(\"dfs.adls.oauth2.access.token.provider.type\", \"ClientCredential\")\n",
    "spark.conf.set(\"dfs.adls.oauth2.client.id\", dbutils.secrets.get(scope = \"adl_cred\", key = \"client_id\"))\n",
    "spark.conf.set(\"dfs.adls.oauth2.credential\", dbutils.secrets.get(scope = \"adl_cred\", key = \"credential\"))\n",
    "spark.conf.set(\"dfs.adls.oauth2.refresh.url\", url)"
   ]
  },
  {
   "cell_type": "markdown",
   "metadata": {
    "application/vnd.databricks.v1+cell": {
     "cellMetadata": {},
     "inputWidgets": {},
     "nuid": "c37ade87-b7ed-4100-b88f-231e73b9123e",
     "showTitle": false,
     "title": ""
    }
   },
   "source": [
    "## Load the YinzCam Realtime API, User Profile & Metadata from the ADL"
   ]
  },
  {
   "cell_type": "markdown",
   "metadata": {
    "application/vnd.databricks.v1+cell": {
     "cellMetadata": {},
     "inputWidgets": {},
     "nuid": "8ef4d747-f58f-46cc-8586-677a80deab80",
     "showTitle": false,
     "title": ""
    }
   },
   "source": [
    "##### Define the team and url from ADL"
   ]
  },
  {
   "cell_type": "code",
   "execution_count": 0,
   "metadata": {
    "application/vnd.databricks.v1+cell": {
     "cellMetadata": {},
     "inputWidgets": {},
     "nuid": "40b071e6-f092-429d-ad5b-25841897f689",
     "showTitle": false,
     "title": ""
    }
   },
   "outputs": [
    {
     "output_type": "display_data",
     "data": {
      "text/html": [
       "<style scoped>\n",
       "  .ansiout {\n",
       "    display: block;\n",
       "    unicode-bidi: embed;\n",
       "    white-space: pre-wrap;\n",
       "    word-wrap: break-word;\n",
       "    word-break: break-all;\n",
       "    font-family: \"Menlo\", \"Monaco\", \"Consolas\", \"Ubuntu Mono\", \"Source Code Pro\", monospace;\n",
       "    font-size: 13px;\n",
       "    color: #555;\n",
       "    margin-left: 4px;\n",
       "    line-height: 19px;\n",
       "  }\n",
       "</style>\n",
       "<div class=\"ansiout\">Working with mls team\n",
       "</div>"
      ]
     },
     "metadata": {
      "application/vnd.databricks.v1+output": {
       "addedWidgets": {
        "team": {
         "defaultValue": "",
         "label": "",
         "name": "team",
         "options": {
          "autoCreated": null,
          "validationRegex": null,
          "widgetType": "text"
         },
         "widgetType": "text"
        }
       },
       "arguments": {
        "team": "mls"
       },
       "data": "<div class=\"ansiout\">Working with mls team\n</div>",
       "datasetInfos": [],
       "metadata": {},
       "removedWidgets": [],
       "type": "html"
      }
     },
     "output_type": "display_data"
    }
   ],
   "source": [
    "dbutils.widgets.text(\"team\", \"\",\"\")\n",
    "dbutils.widgets.get(\"team\")\n",
    "team = getArgument(\"team\")\n",
    "print(\"Working with {0} team\".format(team))"
   ]
  },
  {
   "cell_type": "code",
   "execution_count": 0,
   "metadata": {
    "application/vnd.databricks.v1+cell": {
     "cellMetadata": {},
     "inputWidgets": {},
     "nuid": "6e09f20c-85ab-4e6f-bb59-c03b3cbccbf8",
     "showTitle": false,
     "title": ""
    }
   },
   "outputs": [
    {
     "output_type": "display_data",
     "data": {
      "text/html": [
       "<style scoped>\n",
       "  .ansiout {\n",
       "    display: block;\n",
       "    unicode-bidi: embed;\n",
       "    white-space: pre-wrap;\n",
       "    word-wrap: break-word;\n",
       "    word-break: break-all;\n",
       "    font-family: \"Menlo\", \"Monaco\", \"Consolas\", \"Ubuntu Mono\", \"Source Code Pro\", monospace;\n",
       "    font-size: 13px;\n",
       "    color: #555;\n",
       "    margin-left: 4px;\n",
       "    line-height: 19px;\n",
       "  }\n",
       "</style>\n",
       "<div class=\"ansiout\"></div>"
      ]
     },
     "metadata": {
      "application/vnd.databricks.v1+output": {
       "addedWidgets": {},
       "arguments": {},
       "data": "<div class=\"ansiout\"></div>",
       "datasetInfos": [],
       "metadata": {},
       "removedWidgets": [],
       "type": "html"
      }
     },
     "output_type": "display_data"
    }
   ],
   "source": [
    "adlurl = \"adl://mlse1.azuredatalakestore.net/yinz_cam/\"+team +\"_tor/realtime_api/\""
   ]
  },
  {
   "cell_type": "markdown",
   "metadata": {
    "application/vnd.databricks.v1+cell": {
     "cellMetadata": {},
     "inputWidgets": {},
     "nuid": "c8067eb5-4ebf-4d8f-b58f-06f1cf45cd7c",
     "showTitle": false,
     "title": ""
    }
   },
   "source": [
    "##### Load Realtime data from ADL"
   ]
  },
  {
   "cell_type": "code",
   "execution_count": 0,
   "metadata": {
    "application/vnd.databricks.v1+cell": {
     "cellMetadata": {},
     "inputWidgets": {},
     "nuid": "505fec2d-6b73-48c4-9d29-29e16e240453",
     "showTitle": false,
     "title": ""
    }
   },
   "outputs": [
    {
     "output_type": "display_data",
     "data": {
      "text/html": [
       "<style scoped>\n",
       "  .ansiout {\n",
       "    display: block;\n",
       "    unicode-bidi: embed;\n",
       "    white-space: pre-wrap;\n",
       "    word-wrap: break-word;\n",
       "    word-break: break-all;\n",
       "    font-family: \"Menlo\", \"Monaco\", \"Consolas\", \"Ubuntu Mono\", \"Source Code Pro\", monospace;\n",
       "    font-size: 13px;\n",
       "    color: #555;\n",
       "    margin-left: 4px;\n",
       "    line-height: 19px;\n",
       "  }\n",
       "</style>\n",
       "<div class=\"ansiout\"></div>"
      ]
     },
     "metadata": {
      "application/vnd.databricks.v1+output": {
       "addedWidgets": {},
       "arguments": {},
       "data": "<div class=\"ansiout\"></div>",
       "datasetInfos": [
        {
         "name": "actions",
         "schema": {
          "fields": [
           {
            "metadata": {},
            "name": "action_id",
            "nullable": true,
            "type": "string"
           },
           {
            "metadata": {},
            "name": "in_venue",
            "nullable": true,
            "type": "string"
           },
           {
            "metadata": {},
            "name": "invisible_date_time",
            "nullable": true,
            "type": "string"
           },
           {
            "metadata": {},
            "name": "request_date_time",
            "nullable": true,
            "type": "timestamp"
           },
           {
            "metadata": {},
            "name": "resource_major",
            "nullable": true,
            "type": "string"
           },
           {
            "metadata": {},
            "name": "resource_minor",
            "nullable": true,
            "type": "string"
           },
           {
            "metadata": {},
            "name": "session_id",
            "nullable": true,
            "type": "string"
           },
           {
            "metadata": {},
            "name": "sort_order",
            "nullable": true,
            "type": "string"
           },
           {
            "metadata": {},
            "name": "type_major",
            "nullable": true,
            "type": "string"
           },
           {
            "metadata": {},
            "name": "type_minor",
            "nullable": true,
            "type": "string"
           },
           {
            "metadata": {},
            "name": "yinzid",
            "nullable": true,
            "type": "string"
           },
           {
            "metadata": {},
            "name": "request_date_time_est",
            "nullable": true,
            "type": "timestamp"
           },
           {
            "metadata": {},
            "name": "action_date",
            "nullable": true,
            "type": "string"
           }
          ],
          "type": "struct"
         },
         "tableIdentifier": null,
         "typeStr": "pyspark.sql.dataframe.DataFrame"
        },
        {
         "name": "sessions",
         "schema": {
          "fields": [
           {
            "metadata": {},
            "name": "actions",
            "nullable": true,
            "type": "string"
           },
           {
            "metadata": {},
            "name": "app_id",
            "nullable": true,
            "type": "string"
           },
           {
            "metadata": {},
            "name": "app_version",
            "nullable": true,
            "type": "string"
           },
           {
            "metadata": {},
            "name": "carrier",
            "nullable": true,
            "type": "string"
           },
           {
            "metadata": {},
            "name": "device_adid",
            "nullable": true,
            "type": "string"
           },
           {
            "metadata": {},
            "name": "device_generated_id",
            "nullable": true,
            "type": "string"
           },
           {
            "metadata": {},
            "name": "device_id",
            "nullable": true,
            "type": "string"
           },
           {
            "metadata": {},
            "name": "end_date_time",
            "nullable": true,
            "type": "timestamp"
           },
           {
            "metadata": {},
            "name": "hardware_device_id",
            "nullable": true,
            "type": "integer"
           },
           {
            "metadata": {},
            "name": "ses_id",
            "nullable": true,
            "type": "string"
           },
           {
            "metadata": {},
            "name": "mcc",
            "nullable": true,
            "type": "string"
           },
           {
            "metadata": {},
            "name": "mdn",
            "nullable": true,
            "type": "string"
           },
           {
            "metadata": {},
            "name": "mnc",
            "nullable": true,
            "type": "string"
           },
           {
            "metadata": {},
            "name": "os_version",
            "nullable": true,
            "type": "string"
           },
           {
            "metadata": {},
            "name": "start_date_time",
            "nullable": true,
            "type": "timestamp"
           },
           {
            "metadata": {},
            "name": "session_date",
            "nullable": true,
            "type": "string"
           }
          ],
          "type": "struct"
         },
         "tableIdentifier": null,
         "typeStr": "pyspark.sql.dataframe.DataFrame"
        },
        {
         "name": "hardware",
         "schema": {
          "fields": [
           {
            "metadata": {},
            "name": "hardware_id",
            "nullable": true,
            "type": "integer"
           },
           {
            "metadata": {},
            "name": "manufacturer",
            "nullable": true,
            "type": "string"
           },
           {
            "metadata": {},
            "name": "model",
            "nullable": true,
            "type": "string"
           },
           {
            "metadata": {},
            "name": "platform",
            "nullable": true,
            "type": "string"
           },
           {
            "metadata": {},
            "name": "screen_height",
            "nullable": true,
            "type": "string"
           },
           {
            "metadata": {},
            "name": "screen_width",
            "nullable": true,
            "type": "string"
           }
          ],
          "type": "struct"
         },
         "tableIdentifier": null,
         "typeStr": "pyspark.sql.dataframe.DataFrame"
        },
        {
         "name": "geoip",
         "schema": {
          "fields": [
           {
            "metadata": {},
            "name": "city_geoname_id",
            "nullable": true,
            "type": "string"
           },
           {
            "metadata": {},
            "name": "city_name",
            "nullable": true,
            "type": "string"
           },
           {
            "metadata": {},
            "name": "continent_code",
            "nullable": true,
            "type": "string"
           },
           {
            "metadata": {},
            "name": "continent_geoname_id",
            "nullable": true,
            "type": "string"
           },
           {
            "metadata": {},
            "name": "continent_name",
            "nullable": true,
            "type": "string"
           },
           {
            "metadata": {},
            "name": "country_code",
            "nullable": true,
            "type": "string"
           },
           {
            "metadata": {},
            "name": "country_geoname_id",
            "nullable": true,
            "type": "string"
           },
           {
            "metadata": {},
            "name": "country_name",
            "nullable": true,
            "type": "string"
           },
           {
            "metadata": {},
            "name": "geoip_id",
            "nullable": true,
            "type": "integer"
           },
           {
            "metadata": {},
            "name": "postal_code",
            "nullable": true,
            "type": "string"
           },
           {
            "metadata": {},
            "name": "session_device_generated_id",
            "nullable": true,
            "type": "string"
           },
           {
            "metadata": {},
            "name": "subdivision1_code",
            "nullable": true,
            "type": "string"
           },
           {
            "metadata": {},
            "name": "subdivision1_geoname_id",
            "nullable": true,
            "type": "string"
           },
           {
            "metadata": {},
            "name": "subdivision1_name",
            "nullable": true,
            "type": "string"
           },
           {
            "metadata": {},
            "name": "subdivision2_code",
            "nullable": true,
            "type": "string"
           },
           {
            "metadata": {},
            "name": "subdivision2_geoname_id",
            "nullable": true,
            "type": "string"
           },
           {
            "metadata": {},
            "name": "subdivision2_name",
            "nullable": true,
            "type": "string"
           },
           {
            "metadata": {},
            "name": "time_zone",
            "nullable": true,
            "type": "string"
           }
          ],
          "type": "struct"
         },
         "tableIdentifier": null,
         "typeStr": "pyspark.sql.dataframe.DataFrame"
        }
       ],
       "metadata": {},
       "removedWidgets": [],
       "type": "html"
      }
     },
     "output_type": "display_data"
    }
   ],
   "source": [
    "actions  = (spark.read.csv(adlurl+'actions',header=True)\n",
    "            .drop_duplicates()\n",
    "            .withColumnRenamed('id','action_id')\n",
    "            .withColumn('request_date_time',col('request_date_time').cast(TimestampType()))\n",
    "            .withColumn('request_date_time_est', from_utc_timestamp(col('request_date_time'), \"America/Toronto\"))\n",
    "            .withColumn('action_date',date_format('request_date_time_est', 'yyyy-MM-dd'))\n",
    "           )\n",
    "sessions = (spark.read.csv(adlurl+'sessions',header=True)\n",
    "            .withColumnRenamed('id','ses_id')\n",
    "            .withColumn('start_date_time', from_utc_timestamp(col('start_date_time').cast(TimestampType()), \"America/Toronto\"))\n",
    "            .withColumn('end_date_time', from_utc_timestamp(col('end_date_time').cast(TimestampType()), \"America/Toronto\"))\n",
    "            .withColumn('session_date',date_format('start_date_time', 'yyyy-MM-dd'))\n",
    "            .orderBy('end_date_time',ascending=False)\n",
    "            .drop_duplicates(subset=['ses_id'])\n",
    "            .where(col('ses_id').isNotNull())\n",
    "            .withColumn(\"hardware_device_id\",col(\"hardware_device_id\").cast(IntegerType()))\n",
    "           )\n",
    "hardware = (spark.read.csv(adlurl+'hardware',header=True)\n",
    "            .withColumnRenamed('id','hardware_id')\n",
    "            .drop_duplicates(subset=['hardware_id'])\n",
    "            .where(col('hardware_id').isNotNull())\n",
    "            .withColumn(\"hardware_id\",col(\"hardware_id\").cast(IntegerType()))\n",
    "           )\n",
    "geoip    = (spark.read.csv(adlurl+'geoip',header=True)\n",
    "            .withColumnRenamed('id','geoip_id')\n",
    "            .withColumn('geoip_id',col('geoip_id').cast(IntegerType()))\n",
    "            .where(col('geoip_id').isNotNull())\n",
    "           )\n",
    "geoip    =  (geoip\n",
    "             .orderBy(geoip.columns, ascending=[False for i in range(len(geoip.columns))])\n",
    "             .drop_duplicates(subset=['geoip_id'])\n",
    "            )"
   ]
  },
  {
   "cell_type": "code",
   "execution_count": 0,
   "metadata": {
    "application/vnd.databricks.v1+cell": {
     "cellMetadata": {},
     "inputWidgets": {},
     "nuid": "dc100476-91a2-44e2-a966-4b246f1ab4d2",
     "showTitle": false,
     "title": ""
    }
   },
   "outputs": [
    {
     "output_type": "display_data",
     "data": {
      "text/html": [
       "<style scoped>\n",
       "  .table-result-container {\n",
       "    max-height: 300px;\n",
       "    overflow: auto;\n",
       "  }\n",
       "  table, th, td {\n",
       "    border: 1px solid black;\n",
       "    border-collapse: collapse;\n",
       "  }\n",
       "  th, td {\n",
       "    padding: 5px;\n",
       "  }\n",
       "  th {\n",
       "    text-align: left;\n",
       "  }\n",
       "</style><div class='table-result-container'><table class='table-result'><thead style='background-color: white'><tr><th>action_id</th><th>in_venue</th><th>invisible_date_time</th><th>request_date_time</th><th>resource_major</th><th>resource_minor</th><th>session_id</th><th>sort_order</th><th>type_major</th><th>type_minor</th><th>yinzid</th><th>request_date_time_est</th><th>action_date</th></tr></thead><tbody><tr><td>423</td><td>0</td><td>null</td><td>2017-09-10T03:47:33.000+0000</td><td>HOME</td><td>null</td><td>7510548B-BC99-4020-A80C-2667EC758AB6</td><td>5</td><td>AD_INLINE_IMP</td><td>c2833b28-6ef2-4d5d-89e2-32e4c831a964|INLINE</td><td>f3c36ea8-587c-4f7d-abe8-8899d77915e2</td><td>2017-09-09T23:47:33.000+0000</td><td>2017-09-09</td></tr><tr><td>432</td><td>0</td><td>2017-09-10 03:49:38.0</td><td>2017-09-10T03:47:17.000+0000</td><td>HOME</td><td>null</td><td>7510548B-BC99-4020-A80C-2667EC758AB6</td><td>0</td><td>V</td><td>null</td><td>f3c36ea8-587c-4f7d-abe8-8899d77915e2</td><td>2017-09-09T23:47:17.000+0000</td><td>2017-09-09</td></tr><tr><td>426</td><td>0</td><td>null</td><td>2017-09-10T03:47:35.000+0000</td><td>HOME</td><td>null</td><td>7510548B-BC99-4020-A80C-2667EC758AB6</td><td>6</td><td>AD_INLINE_IMP</td><td>c2833b28-6ef2-4d5d-89e2-32e4c831a964|INLINE</td><td>f3c36ea8-587c-4f7d-abe8-8899d77915e2</td><td>2017-09-09T23:47:35.000+0000</td><td>2017-09-09</td></tr><tr><td>410</td><td>0</td><td>null</td><td>2017-09-10T03:47:18.000+0000</td><td>HOME</td><td>null</td><td>7510548B-BC99-4020-A80C-2667EC758AB6</td><td>2</td><td>AD_SPO_BAR_IMP</td><td>d6c423a2-b0d1-4c51-be84-fbc06b959d5b</td><td>f3c36ea8-587c-4f7d-abe8-8899d77915e2</td><td>2017-09-09T23:47:18.000+0000</td><td>2017-09-09</td></tr><tr><td>401</td><td>0</td><td>null</td><td>2017-09-10T03:47:18.000+0000</td><td>HOME</td><td>null</td><td>7510548B-BC99-4020-A80C-2667EC758AB6</td><td>1</td><td>AD_INLINE_IMP</td><td>c2833b28-6ef2-4d5d-89e2-32e4c831a964|INLINE</td><td>f3c36ea8-587c-4f7d-abe8-8899d77915e2</td><td>2017-09-09T23:47:18.000+0000</td><td>2017-09-09</td></tr></tbody></table></div>"
      ]
     },
     "metadata": {
      "application/vnd.databricks.v1+output": {
       "addedWidgets": {},
       "aggData": [],
       "aggError": "",
       "aggOverflow": false,
       "aggSchema": [],
       "aggSeriesLimitReached": false,
       "aggType": "",
       "arguments": {},
       "columnCustomDisplayInfos": {},
       "data": [
        [
         "423",
         "0",
         null,
         "2017-09-10T03:47:33.000+0000",
         "HOME",
         null,
         "7510548B-BC99-4020-A80C-2667EC758AB6",
         "5",
         "AD_INLINE_IMP",
         "c2833b28-6ef2-4d5d-89e2-32e4c831a964|INLINE",
         "f3c36ea8-587c-4f7d-abe8-8899d77915e2",
         "2017-09-09T23:47:33.000+0000",
         "2017-09-09"
        ],
        [
         "432",
         "0",
         "2017-09-10 03:49:38.0",
         "2017-09-10T03:47:17.000+0000",
         "HOME",
         null,
         "7510548B-BC99-4020-A80C-2667EC758AB6",
         "0",
         "V",
         null,
         "f3c36ea8-587c-4f7d-abe8-8899d77915e2",
         "2017-09-09T23:47:17.000+0000",
         "2017-09-09"
        ],
        [
         "426",
         "0",
         null,
         "2017-09-10T03:47:35.000+0000",
         "HOME",
         null,
         "7510548B-BC99-4020-A80C-2667EC758AB6",
         "6",
         "AD_INLINE_IMP",
         "c2833b28-6ef2-4d5d-89e2-32e4c831a964|INLINE",
         "f3c36ea8-587c-4f7d-abe8-8899d77915e2",
         "2017-09-09T23:47:35.000+0000",
         "2017-09-09"
        ],
        [
         "410",
         "0",
         null,
         "2017-09-10T03:47:18.000+0000",
         "HOME",
         null,
         "7510548B-BC99-4020-A80C-2667EC758AB6",
         "2",
         "AD_SPO_BAR_IMP",
         "d6c423a2-b0d1-4c51-be84-fbc06b959d5b",
         "f3c36ea8-587c-4f7d-abe8-8899d77915e2",
         "2017-09-09T23:47:18.000+0000",
         "2017-09-09"
        ],
        [
         "401",
         "0",
         null,
         "2017-09-10T03:47:18.000+0000",
         "HOME",
         null,
         "7510548B-BC99-4020-A80C-2667EC758AB6",
         "1",
         "AD_INLINE_IMP",
         "c2833b28-6ef2-4d5d-89e2-32e4c831a964|INLINE",
         "f3c36ea8-587c-4f7d-abe8-8899d77915e2",
         "2017-09-09T23:47:18.000+0000",
         "2017-09-09"
        ]
       ],
       "datasetInfos": [
        {
         "name": "row",
         "schema": {
          "fields": [
           {
            "metadata": {},
            "name": "action_id",
            "nullable": true,
            "type": "string"
           },
           {
            "metadata": {},
            "name": "in_venue",
            "nullable": true,
            "type": "string"
           },
           {
            "metadata": {},
            "name": "invisible_date_time",
            "nullable": true,
            "type": "string"
           },
           {
            "metadata": {},
            "name": "request_date_time",
            "nullable": true,
            "type": "timestamp"
           },
           {
            "metadata": {},
            "name": "resource_major",
            "nullable": true,
            "type": "string"
           },
           {
            "metadata": {},
            "name": "resource_minor",
            "nullable": true,
            "type": "string"
           },
           {
            "metadata": {},
            "name": "session_id",
            "nullable": true,
            "type": "string"
           },
           {
            "metadata": {},
            "name": "sort_order",
            "nullable": true,
            "type": "string"
           },
           {
            "metadata": {},
            "name": "type_major",
            "nullable": true,
            "type": "string"
           },
           {
            "metadata": {},
            "name": "type_minor",
            "nullable": true,
            "type": "string"
           },
           {
            "metadata": {},
            "name": "yinzid",
            "nullable": true,
            "type": "string"
           },
           {
            "metadata": {},
            "name": "request_date_time_est",
            "nullable": true,
            "type": "timestamp"
           },
           {
            "metadata": {},
            "name": "action_date",
            "nullable": true,
            "type": "string"
           }
          ],
          "type": "struct"
         },
         "tableIdentifier": null,
         "typeStr": "pyspark.sql.dataframe.DataFrame"
        }
       ],
       "dbfsResultPath": null,
       "isJsonSchema": true,
       "metadata": {},
       "overflow": false,
       "plotOptions": {
        "customPlotOptions": {},
        "displayType": "table",
        "pivotAggregation": null,
        "pivotColumns": null,
        "xColumns": null,
        "yColumns": null
       },
       "removedWidgets": [],
       "schema": [
        {
         "metadata": "{}",
         "name": "action_id",
         "type": "\"string\""
        },
        {
         "metadata": "{}",
         "name": "in_venue",
         "type": "\"string\""
        },
        {
         "metadata": "{}",
         "name": "invisible_date_time",
         "type": "\"string\""
        },
        {
         "metadata": "{}",
         "name": "request_date_time",
         "type": "\"timestamp\""
        },
        {
         "metadata": "{}",
         "name": "resource_major",
         "type": "\"string\""
        },
        {
         "metadata": "{}",
         "name": "resource_minor",
         "type": "\"string\""
        },
        {
         "metadata": "{}",
         "name": "session_id",
         "type": "\"string\""
        },
        {
         "metadata": "{}",
         "name": "sort_order",
         "type": "\"string\""
        },
        {
         "metadata": "{}",
         "name": "type_major",
         "type": "\"string\""
        },
        {
         "metadata": "{}",
         "name": "type_minor",
         "type": "\"string\""
        },
        {
         "metadata": "{}",
         "name": "yinzid",
         "type": "\"string\""
        },
        {
         "metadata": "{}",
         "name": "request_date_time_est",
         "type": "\"timestamp\""
        },
        {
         "metadata": "{}",
         "name": "action_date",
         "type": "\"string\""
        }
       ],
       "type": "table"
      }
     },
     "output_type": "display_data"
    }
   ],
   "source": [
    "# row = actions.where(col('session_id') == '7510548B-BC99-4020-A80C-2667EC758AB6')\n",
    "# print(geoip)"
   ]
  },
  {
   "cell_type": "markdown",
   "metadata": {
    "application/vnd.databricks.v1+cell": {
     "cellMetadata": {},
     "inputWidgets": {},
     "nuid": "1f3cce04-48ae-4d5a-86a2-abba02c5525c",
     "showTitle": false,
     "title": ""
    }
   },
   "source": [
    "## Join the Realtime data (`actions`, `sessions`, `hardware`, `geoip`) into a single table"
   ]
  },
  {
   "cell_type": "code",
   "execution_count": 0,
   "metadata": {
    "application/vnd.databricks.v1+cell": {
     "cellMetadata": {},
     "inputWidgets": {},
     "nuid": "c1ade023-deea-4199-9d1b-922dc352f56c",
     "showTitle": false,
     "title": ""
    }
   },
   "outputs": [
    {
     "output_type": "display_data",
     "data": {
      "text/html": [
       "<style scoped>\n",
       "  .ansiout {\n",
       "    display: block;\n",
       "    unicode-bidi: embed;\n",
       "    white-space: pre-wrap;\n",
       "    word-wrap: break-word;\n",
       "    word-break: break-all;\n",
       "    font-family: \"Menlo\", \"Monaco\", \"Consolas\", \"Ubuntu Mono\", \"Source Code Pro\", monospace;\n",
       "    font-size: 13px;\n",
       "    color: #555;\n",
       "    margin-left: 4px;\n",
       "    line-height: 19px;\n",
       "  }\n",
       "</style>\n",
       "<div class=\"ansiout\"></div>"
      ]
     },
     "metadata": {
      "application/vnd.databricks.v1+output": {
       "addedWidgets": {},
       "arguments": {},
       "data": "<div class=\"ansiout\"></div>",
       "datasetInfos": [
        {
         "name": "actions_sessions",
         "schema": {
          "fields": [
           {
            "metadata": {},
            "name": "action_id",
            "nullable": true,
            "type": "string"
           },
           {
            "metadata": {},
            "name": "in_venue",
            "nullable": true,
            "type": "string"
           },
           {
            "metadata": {},
            "name": "invisible_date_time",
            "nullable": true,
            "type": "string"
           },
           {
            "metadata": {},
            "name": "request_date_time",
            "nullable": true,
            "type": "timestamp"
           },
           {
            "metadata": {},
            "name": "resource_major",
            "nullable": true,
            "type": "string"
           },
           {
            "metadata": {},
            "name": "resource_minor",
            "nullable": true,
            "type": "string"
           },
           {
            "metadata": {},
            "name": "session_id",
            "nullable": true,
            "type": "string"
           },
           {
            "metadata": {},
            "name": "sort_order",
            "nullable": true,
            "type": "string"
           },
           {
            "metadata": {},
            "name": "type_major",
            "nullable": true,
            "type": "string"
           },
           {
            "metadata": {},
            "name": "type_minor",
            "nullable": true,
            "type": "string"
           },
           {
            "metadata": {},
            "name": "yinzid",
            "nullable": true,
            "type": "string"
           },
           {
            "metadata": {},
            "name": "request_date_time_est",
            "nullable": true,
            "type": "timestamp"
           },
           {
            "metadata": {},
            "name": "action_date",
            "nullable": true,
            "type": "string"
           },
           {
            "metadata": {},
            "name": "actions",
            "nullable": true,
            "type": "string"
           },
           {
            "metadata": {},
            "name": "app_id",
            "nullable": true,
            "type": "string"
           },
           {
            "metadata": {},
            "name": "app_version",
            "nullable": true,
            "type": "string"
           },
           {
            "metadata": {},
            "name": "carrier",
            "nullable": true,
            "type": "string"
           },
           {
            "metadata": {},
            "name": "device_adid",
            "nullable": true,
            "type": "string"
           },
           {
            "metadata": {},
            "name": "device_generated_id",
            "nullable": true,
            "type": "string"
           },
           {
            "metadata": {},
            "name": "device_id",
            "nullable": true,
            "type": "string"
           },
           {
            "metadata": {},
            "name": "end_date_time",
            "nullable": true,
            "type": "timestamp"
           },
           {
            "metadata": {},
            "name": "hardware_device_id",
            "nullable": true,
            "type": "integer"
           },
           {
            "metadata": {},
            "name": "ses_id",
            "nullable": true,
            "type": "string"
           },
           {
            "metadata": {},
            "name": "mcc",
            "nullable": true,
            "type": "string"
           },
           {
            "metadata": {},
            "name": "mdn",
            "nullable": true,
            "type": "string"
           },
           {
            "metadata": {},
            "name": "mnc",
            "nullable": true,
            "type": "string"
           },
           {
            "metadata": {},
            "name": "os_version",
            "nullable": true,
            "type": "string"
           },
           {
            "metadata": {},
            "name": "start_date_time",
            "nullable": true,
            "type": "timestamp"
           },
           {
            "metadata": {},
            "name": "session_date",
            "nullable": true,
            "type": "string"
           },
           {
            "metadata": {},
            "name": "city_geoname_id",
            "nullable": true,
            "type": "string"
           },
           {
            "metadata": {},
            "name": "city_name",
            "nullable": true,
            "type": "string"
           },
           {
            "metadata": {},
            "name": "continent_code",
            "nullable": true,
            "type": "string"
           },
           {
            "metadata": {},
            "name": "continent_geoname_id",
            "nullable": true,
            "type": "string"
           },
           {
            "metadata": {},
            "name": "continent_name",
            "nullable": true,
            "type": "string"
           },
           {
            "metadata": {},
            "name": "country_code",
            "nullable": true,
            "type": "string"
           },
           {
            "metadata": {},
            "name": "country_geoname_id",
            "nullable": true,
            "type": "string"
           },
           {
            "metadata": {},
            "name": "country_name",
            "nullable": true,
            "type": "string"
           },
           {
            "metadata": {},
            "name": "geoip_id",
            "nullable": true,
            "type": "integer"
           },
           {
            "metadata": {},
            "name": "postal_code",
            "nullable": true,
            "type": "string"
           },
           {
            "metadata": {},
            "name": "session_device_generated_id",
            "nullable": true,
            "type": "string"
           },
           {
            "metadata": {},
            "name": "subdivision1_code",
            "nullable": true,
            "type": "string"
           },
           {
            "metadata": {},
            "name": "subdivision1_geoname_id",
            "nullable": true,
            "type": "string"
           },
           {
            "metadata": {},
            "name": "subdivision1_name",
            "nullable": true,
            "type": "string"
           },
           {
            "metadata": {},
            "name": "subdivision2_code",
            "nullable": true,
            "type": "string"
           },
           {
            "metadata": {},
            "name": "subdivision2_geoname_id",
            "nullable": true,
            "type": "string"
           },
           {
            "metadata": {},
            "name": "subdivision2_name",
            "nullable": true,
            "type": "string"
           },
           {
            "metadata": {},
            "name": "time_zone",
            "nullable": true,
            "type": "string"
           },
           {
            "metadata": {},
            "name": "hardware_id",
            "nullable": true,
            "type": "integer"
           },
           {
            "metadata": {},
            "name": "manufacturer",
            "nullable": true,
            "type": "string"
           },
           {
            "metadata": {},
            "name": "model",
            "nullable": true,
            "type": "string"
           },
           {
            "metadata": {},
            "name": "platform",
            "nullable": true,
            "type": "string"
           },
           {
            "metadata": {},
            "name": "screen_height",
            "nullable": true,
            "type": "string"
           },
           {
            "metadata": {},
            "name": "screen_width",
            "nullable": true,
            "type": "string"
           }
          ],
          "type": "struct"
         },
         "tableIdentifier": null,
         "typeStr": "pyspark.sql.dataframe.DataFrame"
        }
       ],
       "metadata": {},
       "removedWidgets": [],
       "type": "html"
      }
     },
     "output_type": "display_data"
    }
   ],
   "source": [
    "actions_sessions = (actions\n",
    "                    .join(sessions,\n",
    "                          col('session_id') == col('device_generated_id'))\n",
    "                    .join(geoip,col('session_device_generated_id') == col('device_generated_id'))\n",
    "                    .join(hardware,col('hardware_id')==col('hardware_device_id'))\n",
    "                    .where(col('yinzid').isNotNull())\n",
    "                   )"
   ]
  },
  {
   "cell_type": "markdown",
   "metadata": {
    "application/vnd.databricks.v1+cell": {
     "cellMetadata": {},
     "inputWidgets": {},
     "nuid": "c0bd397c-4ad7-4ee9-b2c8-46e27ed082b4",
     "showTitle": false,
     "title": ""
    }
   },
   "source": [
    "\n",
    "## Aggregate users (`yinzid` or `device_id`) by `session_date` to get the Daily Active Users\n",
    "\n",
    "I am excluding the `subdivision2_name` for the moment, since only <3% of the records will have it. Therefore, it will store values in the SQL DB that we will not be able to explode for the lack of data."
   ]
  },
  {
   "cell_type": "code",
   "execution_count": 0,
   "metadata": {
    "application/vnd.databricks.v1+cell": {
     "cellMetadata": {},
     "inputWidgets": {},
     "nuid": "14d0b941-5917-4d6b-a92b-cf1b5fb0ba87",
     "showTitle": false,
     "title": ""
    }
   },
   "outputs": [
    {
     "output_type": "display_data",
     "data": {
      "text/html": [
       "<style scoped>\n",
       "  .ansiout {\n",
       "    display: block;\n",
       "    unicode-bidi: embed;\n",
       "    white-space: pre-wrap;\n",
       "    word-wrap: break-word;\n",
       "    word-break: break-all;\n",
       "    font-family: \"Menlo\", \"Monaco\", \"Consolas\", \"Ubuntu Mono\", \"Source Code Pro\", monospace;\n",
       "    font-size: 13px;\n",
       "    color: #555;\n",
       "    margin-left: 4px;\n",
       "    line-height: 19px;\n",
       "  }\n",
       "</style>\n",
       "<div class=\"ansiout\">39010407\n",
       "39010407\n",
       "</div>"
      ]
     },
     "metadata": {
      "application/vnd.databricks.v1+output": {
       "addedWidgets": {},
       "arguments": {},
       "data": "<div class=\"ansiout\">39010407\n39010407\n</div>",
       "datasetInfos": [
        {
         "name": "active_users",
         "schema": {
          "fields": [
           {
            "metadata": {},
            "name": "session_date",
            "nullable": true,
            "type": "timestamp"
           },
           {
            "metadata": {},
            "name": "city_name",
            "nullable": true,
            "type": "string"
           },
           {
            "metadata": {},
            "name": "manufacturer",
            "nullable": true,
            "type": "string"
           },
           {
            "metadata": {},
            "name": "country_name",
            "nullable": true,
            "type": "string"
           },
           {
            "metadata": {},
            "name": "postal_code",
            "nullable": true,
            "type": "string"
           },
           {
            "metadata": {},
            "name": "subdivision1_name",
            "nullable": true,
            "type": "string"
           },
           {
            "metadata": {},
            "name": "active_users",
            "nullable": false,
            "type": "long"
           },
           {
            "metadata": {},
            "name": "active_devices",
            "nullable": false,
            "type": "long"
           }
          ],
          "type": "struct"
         },
         "tableIdentifier": null,
         "typeStr": "pyspark.sql.dataframe.DataFrame"
        }
       ],
       "metadata": {},
       "removedWidgets": [],
       "type": "html"
      }
     },
     "output_type": "display_data"
    }
   ],
   "source": [
    "active_users = (actions_sessions\n",
    "                .where(col('session_date').isNotNull() & col('yinzid').isNotNull() & col('device_id').isNotNull() & col('session_id').isNotNull())\n",
    "                .groupBy('session_date','city_name','manufacturer','country_name','postal_code','subdivision1_name')\n",
    "                .agg(countDistinct('yinzid').alias('active_users'),\n",
    "                     countDistinct('device_id').alias('active_devices')\n",
    "                    )\n",
    "                .orderBy('session_date')\n",
    "                .withColumn('session_date',col('session_date').cast(TimestampType()))\n",
    "               )\n",
    "# print(actions_sessions.count())\n",
    "# print(actions_sessions.drop_duplicates().count())"
   ]
  },
  {
   "cell_type": "markdown",
   "metadata": {
    "application/vnd.databricks.v1+cell": {
     "cellMetadata": {},
     "inputWidgets": {},
     "nuid": "4d32b878-9b72-410b-bb73-e1450e3368fd",
     "showTitle": false,
     "title": ""
    }
   },
   "source": [
    "\n",
    "## Additional \"Active User\" calculation ideas not utilized"
   ]
  },
  {
   "cell_type": "markdown",
   "metadata": {
    "application/vnd.databricks.v1+cell": {
     "cellMetadata": {},
     "inputWidgets": {},
     "nuid": "8e89d2d2-bd44-4d94-bbff-96f6c7e910a6",
     "showTitle": false,
     "title": ""
    }
   },
   "source": [
    "\n",
    "Possible Active User - excludes postal code and subdivision\n",
    "\n",
    "```\n",
    "possible_active_user = (actions_sessions\n",
    "                        .where(col('session_date').isNotNull() & col('yinzid').isNotNull() & col('device_id').isNotNull())\n",
    "                        .groupBy('session_date','manufacturer','country_name')\n",
    "                        .agg(countDistinct('yinzid').alias('active_users'),\n",
    "                             countDistinct('device_id').alias('active_devices')\n",
    "                            )\n",
    "                        .orderBy('session_date')\n",
    "                       )\n",
    "```"
   ]
  },
  {
   "cell_type": "markdown",
   "metadata": {
    "application/vnd.databricks.v1+cell": {
     "cellMetadata": {},
     "inputWidgets": {},
     "nuid": "1c072342-98a2-435d-8de6-71d06726dd01",
     "showTitle": false,
     "title": ""
    }
   },
   "source": [
    "\n",
    "Get the total true count\n",
    "\n",
    "```\n",
    "display(actions_sessions\n",
    "        .where(col('session_date').isNotNull() & col('yinzid').isNotNull() & col('device_id').isNotNull())\n",
    "        .groupBy('session_date')\n",
    "        .agg(countDistinct('yinzid').alias('active_users'),\n",
    "             countDistinct('device_id').alias('active_devices')\n",
    "            )\n",
    "        .orderBy('session_date')\n",
    "       )\n",
    "```"
   ]
  },
  {
   "cell_type": "markdown",
   "metadata": {
    "application/vnd.databricks.v1+cell": {
     "cellMetadata": {},
     "inputWidgets": {},
     "nuid": "fa5659fe-323c-400d-b11b-ccc51dbfabd1",
     "showTitle": false,
     "title": ""
    }
   },
   "source": [
    "\n",
    "Get the total true count\n",
    "\n",
    "```\n",
    "active_user_true = (actions_sessions\n",
    "                    .where(col('session_date').isNotNull() & col('yinzid').isNotNull() & col('device_id').isNotNull())\n",
    "                    .groupBy('session_date')\n",
    "                    .agg(countDistinct('yinzid').alias('active_users_x'),\n",
    "                         countDistinct('device_id').alias('active_devices_x')\n",
    "                        )\n",
    "                    .orderBy('session_date')\n",
    "                   )\n",
    "``` "
   ]
  },
  {
   "cell_type": "markdown",
   "metadata": {
    "application/vnd.databricks.v1+cell": {
     "cellMetadata": {},
     "inputWidgets": {},
     "nuid": "aab9fff7-7961-47d8-a3bb-147828d57c7e",
     "showTitle": false,
     "title": ""
    }
   },
   "source": [
    "\n",
    "## Errors when grouping the active_users\n",
    "\n",
    "Since the geolocation is not quite accurate in YinzCam (this is because they don't use GPS, they use IP address for getting it), there will be error when aggregated the `active_users` tables by date. This error can be estimated by using percentage of error. \n",
    "\n",
    "The result is as follows, Mean values 12% +/- 8% with a max error of 30%. You can enable the following cell for calculating the error. "
   ]
  },
  {
   "cell_type": "markdown",
   "metadata": {
    "application/vnd.databricks.v1+cell": {
     "cellMetadata": {},
     "inputWidgets": {},
     "nuid": "2e28a99b-9976-4499-a1fa-9552b31db1f9",
     "showTitle": false,
     "title": ""
    }
   },
   "source": [
    "```\n",
    "display(active_users\n",
    "        .groupBy('session_date')\n",
    "        .agg(sum('active_users').alias('active_users_y'),\n",
    "             sum('active_devices').alias('active_devices_y')\n",
    "            )\n",
    "        .join(active_user_true,'session_date')\n",
    "        .withColumn('per_of_error',abs(col('active_users_x')-col('active_users_y'))/col('active_users_x')*100)\n",
    "        .select('per_of_error').describe()\n",
    "       )\n",
    "```"
   ]
  },
  {
   "cell_type": "markdown",
   "metadata": {
    "application/vnd.databricks.v1+cell": {
     "cellMetadata": {},
     "inputWidgets": {},
     "nuid": "aff72b4f-d8bc-4660-9844-2bacfd0724fd",
     "showTitle": false,
     "title": ""
    }
   },
   "source": [
    "\n",
    "## Writing to SQL\n",
    "\n",
    "The following cell will write the table to `SQL`."
   ]
  },
  {
   "cell_type": "code",
   "execution_count": 0,
   "metadata": {
    "application/vnd.databricks.v1+cell": {
     "cellMetadata": {},
     "inputWidgets": {},
     "nuid": "ad691237-2353-4747-a997-54e09ab16304",
     "showTitle": false,
     "title": ""
    }
   },
   "outputs": [
    {
     "output_type": "display_data",
     "data": {
      "text/html": [
       "<style scoped>\n",
       "  .ansiout {\n",
       "    display: block;\n",
       "    unicode-bidi: embed;\n",
       "    white-space: pre-wrap;\n",
       "    word-wrap: break-word;\n",
       "    word-break: break-all;\n",
       "    font-family: \"Menlo\", \"Monaco\", \"Consolas\", \"Ubuntu Mono\", \"Source Code Pro\", monospace;\n",
       "    font-size: 13px;\n",
       "    color: #555;\n",
       "    margin-left: 4px;\n",
       "    line-height: 19px;\n",
       "  }\n",
       "</style>\n",
       "<div class=\"ansiout\"></div>"
      ]
     },
     "metadata": {
      "application/vnd.databricks.v1+output": {
       "addedWidgets": {},
       "arguments": {},
       "data": "<div class=\"ansiout\"></div>",
       "datasetInfos": [],
       "metadata": {},
       "removedWidgets": [],
       "type": "html"
      }
     },
     "output_type": "display_data"
    }
   ],
   "source": [
    "sqlserver = dbutils.secrets.get(scope = \"jdbc\", key = \"sqlserver\")\n",
    "port = '1433'\n",
    "database = 'mlse_sqldb'\n",
    "user = dbutils.secrets.get(scope = \"jdbc\", key = \"username\")\n",
    "pswd = dbutils.secrets.get(scope = \"jdbc\", key = \"password\")\n",
    "url = 'jdbc:sqlserver://' + sqlserver + ':' + port + ';database=' + database"
   ]
  },
  {
   "cell_type": "code",
   "execution_count": 0,
   "metadata": {
    "application/vnd.databricks.v1+cell": {
     "cellMetadata": {},
     "inputWidgets": {},
     "nuid": "50b0d4e4-ebb3-4d2e-a4f4-38899b768b84",
     "showTitle": false,
     "title": ""
    }
   },
   "outputs": [
    {
     "output_type": "display_data",
     "data": {
      "text/html": [
       "<style scoped>\n",
       "  .ansiout {\n",
       "    display: block;\n",
       "    unicode-bidi: embed;\n",
       "    white-space: pre-wrap;\n",
       "    word-wrap: break-word;\n",
       "    word-break: break-all;\n",
       "    font-family: \"Menlo\", \"Monaco\", \"Consolas\", \"Ubuntu Mono\", \"Source Code Pro\", monospace;\n",
       "    font-size: 13px;\n",
       "    color: #555;\n",
       "    margin-left: 4px;\n",
       "    line-height: 19px;\n",
       "  }\n",
       "</style>\n",
       "<div class=\"ansiout\"></div>"
      ]
     },
     "metadata": {
      "application/vnd.databricks.v1+output": {
       "addedWidgets": {},
       "arguments": {},
       "data": "<div class=\"ansiout\"></div>",
       "datasetInfos": [],
       "metadata": {},
       "removedWidgets": [],
       "type": "html"
      }
     },
     "output_type": "display_data"
    }
   ],
   "source": [
    "(active_users\n",
    " .coalesce(8)\n",
    " .write\n",
    " .option('user', user)\n",
    " .option('password', pswd)\n",
    " .jdbc(url, team + \"_tor_active_users\", mode = 'overwrite' )\n",
    ")"
   ]
  }
 ],
 "metadata": {
  "application/vnd.databricks.v1+notebook": {
   "dashboards": [],
   "language": "python",
   "notebookMetadata": {
    "pythonIndentUnit": 2
   },
   "notebookName": "daily_active_users",
   "widgets": {
    "team": {
     "currentValue": "mls",
     "nuid": "c0e2f6ca-f944-4d0f-8ced-03fa21f929a6",
     "widgetInfo": {
      "widgetType": "text",
      "defaultValue": "",
      "label": "",
      "name": "team",
      "options": {
       "widgetType": "text",
       "autoCreated": null,
       "validationRegex": null
      }
     }
    }
   }
  }
 },
 "nbformat": 4,
 "nbformat_minor": 0
}
