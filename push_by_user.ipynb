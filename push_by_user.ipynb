{
 "cells": [
  {
   "cell_type": "markdown",
   "metadata": {
    "application/vnd.databricks.v1+cell": {
     "cellMetadata": {},
     "inputWidgets": {},
     "nuid": "0bc99060-1c02-43c0-92bc-81e6b106c363",
     "showTitle": false,
     "title": ""
    }
   },
   "source": [
    "# Push notifications - Real Time API\n",
    "\n",
    "## Description \n",
    "Notebook to count clicks, views and open apps by user (mlse_id)\n",
    "\n",
    "## Preprocessing\n",
    "\n",
    "* Load the YinzCam Realtime API & User Profile Data from the ADL\n",
    "* Join the Realtime data (actions, sessions) into a single table\n",
    "* Aggregate the actions_sessions data into push actions by user (mlse_id)\n",
    "\n",
    "## Output\n",
    "\n",
    "SQL Table to MS SQL\n",
    "* `team_push_by_user`: mlse_id, Total_push_view, Total_push_click, Total_push_opened_app. Where `team in {nhl,tfc,nba}`\n",
    "\n",
    "## QA \n",
    "* Erika Munoz, Data Scientist, Erika.Munoz@MLSE.com (Primary)\n",
    "* Nicole Ridout, Data Engineer, Nicole.Ridout@MLSE.com\n",
    "* Farah Bastien, Manager of Data Science, Farah.Bastien@MLSE.com"
   ]
  },
  {
   "cell_type": "markdown",
   "metadata": {
    "application/vnd.databricks.v1+cell": {
     "cellMetadata": {},
     "inputWidgets": {},
     "nuid": "bbad75d9-d302-4cae-b0d1-fef21fab97c3",
     "showTitle": false,
     "title": ""
    }
   },
   "source": [
    "##### Load the necessary functions from `PySpark`"
   ]
  },
  {
   "cell_type": "code",
   "execution_count": 0,
   "metadata": {
    "application/vnd.databricks.v1+cell": {
     "cellMetadata": {},
     "inputWidgets": {},
     "nuid": "e18080ef-22d5-494c-9243-98cf2416f558",
     "showTitle": false,
     "title": ""
    }
   },
   "outputs": [
    {
     "output_type": "display_data",
     "data": {
      "text/html": [
       "<style scoped>\n",
       "  .ansiout {\n",
       "    display: block;\n",
       "    unicode-bidi: embed;\n",
       "    white-space: pre-wrap;\n",
       "    word-wrap: break-word;\n",
       "    word-break: break-all;\n",
       "    font-family: \"Menlo\", \"Monaco\", \"Consolas\", \"Ubuntu Mono\", \"Source Code Pro\", monospace;\n",
       "    font-size: 13px;\n",
       "    color: #555;\n",
       "    margin-left: 4px;\n",
       "    line-height: 19px;\n",
       "  }\n",
       "</style>\n",
       "<div class=\"ansiout\"></div>"
      ]
     },
     "metadata": {
      "application/vnd.databricks.v1+output": {
       "addedWidgets": {},
       "arguments": {},
       "data": "<div class=\"ansiout\"></div>",
       "datasetInfos": [],
       "metadata": {},
       "removedWidgets": [],
       "type": "html"
      }
     },
     "output_type": "display_data"
    }
   ],
   "source": [
    "#SQL-like functions from PySpark\n",
    "from pyspark.sql.functions import col,date_format,from_utc_timestamp, from_unixtime, unix_timestamp, sum, count,\\\n",
    "                                  countDistinct, collect_list, size,month,min,max,when,upper, \\\n",
    "                                  lag,split,size,length, lit, mean, collect_set, concat, upper,create_map, weekofyear,\\\n",
    "                                  year,round,first, explode, isnan, regexp_replace, to_date, floor, when\n",
    "from pyspark.sql.types import TimestampType, IntegerType, DoubleType, StringType, DateType, StructType\n",
    "from pyspark.sql.window import Window\n",
    "\n",
    "#datetime from Python\n",
    "from datetime import datetime,timedelta,date\n",
    "import numpy as np\n",
    "import os, re, glob\n",
    "from itertools import chain"
   ]
  },
  {
   "cell_type": "markdown",
   "metadata": {
    "application/vnd.databricks.v1+cell": {
     "cellMetadata": {},
     "inputWidgets": {},
     "nuid": "ad7ab4e9-bd4e-4a0c-8501-d74a2f4c3f9c",
     "showTitle": false,
     "title": ""
    }
   },
   "source": [
    "##### Load ADL credentials\n",
    "The following cell has the `Spark` configuration for accessing the Azure Data Lake, and it uses *masked* credentials stored in DataBricks"
   ]
  },
  {
   "cell_type": "code",
   "execution_count": 0,
   "metadata": {
    "application/vnd.databricks.v1+cell": {
     "cellMetadata": {},
     "inputWidgets": {},
     "nuid": "0c59841d-64e2-40ff-98ce-45f7f163f83d",
     "showTitle": false,
     "title": ""
    }
   },
   "outputs": [
    {
     "output_type": "display_data",
     "data": {
      "text/html": [
       "<style scoped>\n",
       "  .ansiout {\n",
       "    display: block;\n",
       "    unicode-bidi: embed;\n",
       "    white-space: pre-wrap;\n",
       "    word-wrap: break-word;\n",
       "    word-break: break-all;\n",
       "    font-family: \"Menlo\", \"Monaco\", \"Consolas\", \"Ubuntu Mono\", \"Source Code Pro\", monospace;\n",
       "    font-size: 13px;\n",
       "    color: #555;\n",
       "    margin-left: 4px;\n",
       "    line-height: 19px;\n",
       "  }\n",
       "</style>\n",
       "<div class=\"ansiout\"></div>"
      ]
     },
     "metadata": {
      "application/vnd.databricks.v1+output": {
       "addedWidgets": {},
       "arguments": {},
       "data": "<div class=\"ansiout\"></div>",
       "datasetInfos": [],
       "metadata": {},
       "removedWidgets": [],
       "type": "html"
      }
     },
     "output_type": "display_data"
    }
   ],
   "source": [
    "url = \"https://login.microsoftonline.com/{0}/oauth2/token\".format(dbutils.secrets.get(scope = \"adl_cred\", key = \"directory_id\"))\n",
    "spark.conf.set(\"dfs.adls.oauth2.access.token.provider.type\", \"ClientCredential\")\n",
    "spark.conf.set(\"dfs.adls.oauth2.client.id\", dbutils.secrets.get(scope = \"adl_cred\", key = \"client_id\"))\n",
    "spark.conf.set(\"dfs.adls.oauth2.credential\", dbutils.secrets.get(scope = \"adl_cred\", key = \"credential\"))\n",
    "spark.conf.set(\"dfs.adls.oauth2.refresh.url\", url)"
   ]
  },
  {
   "cell_type": "markdown",
   "metadata": {
    "application/vnd.databricks.v1+cell": {
     "cellMetadata": {},
     "inputWidgets": {},
     "nuid": "702d8166-b86e-42e6-85c6-109255493ab4",
     "showTitle": false,
     "title": ""
    }
   },
   "source": [
    "## Load the YinzCam Realtime API & User Profile Data from the ADL"
   ]
  },
  {
   "cell_type": "markdown",
   "metadata": {
    "application/vnd.databricks.v1+cell": {
     "cellMetadata": {},
     "inputWidgets": {},
     "nuid": "2eaf7eec-2fee-41b7-85e6-41e8931612d7",
     "showTitle": false,
     "title": ""
    }
   },
   "source": [
    "##### Define the team and url from ADL"
   ]
  },
  {
   "cell_type": "code",
   "execution_count": 0,
   "metadata": {
    "application/vnd.databricks.v1+cell": {
     "cellMetadata": {},
     "inputWidgets": {},
     "nuid": "41c7fcfc-eb89-4223-96fe-b83255d3f931",
     "showTitle": false,
     "title": ""
    }
   },
   "outputs": [
    {
     "output_type": "display_data",
     "data": {
      "text/html": [
       "<style scoped>\n",
       "  .ansiout {\n",
       "    display: block;\n",
       "    unicode-bidi: embed;\n",
       "    white-space: pre-wrap;\n",
       "    word-wrap: break-word;\n",
       "    word-break: break-all;\n",
       "    font-family: \"Menlo\", \"Monaco\", \"Consolas\", \"Ubuntu Mono\", \"Source Code Pro\", monospace;\n",
       "    font-size: 13px;\n",
       "    color: #555;\n",
       "    margin-left: 4px;\n",
       "    line-height: 19px;\n",
       "  }\n",
       "</style>\n",
       "<div class=\"ansiout\">Working with nhl team\n",
       "</div>"
      ]
     },
     "metadata": {
      "application/vnd.databricks.v1+output": {
       "addedWidgets": {
        "team": {
         "defaultValue": "",
         "label": "",
         "name": "team",
         "options": {
          "autoCreated": null,
          "validationRegex": null,
          "widgetType": "text"
         },
         "widgetType": "text"
        }
       },
       "arguments": {
        "team": "nhl"
       },
       "data": "<div class=\"ansiout\">Working with nhl team\n</div>",
       "datasetInfos": [],
       "metadata": {},
       "removedWidgets": [],
       "type": "html"
      }
     },
     "output_type": "display_data"
    }
   ],
   "source": [
    "dbutils.widgets.text(\"team\", \"\",\"\")\n",
    "dbutils.widgets.get(\"team\")\n",
    "team = getArgument(\"team\")\n",
    "print(\"Working with {0} team\".format(team))"
   ]
  },
  {
   "cell_type": "code",
   "execution_count": 0,
   "metadata": {
    "application/vnd.databricks.v1+cell": {
     "cellMetadata": {},
     "inputWidgets": {},
     "nuid": "b9825832-ca65-4b2f-960b-2a8541186b13",
     "showTitle": false,
     "title": ""
    }
   },
   "outputs": [
    {
     "output_type": "display_data",
     "data": {
      "text/html": [
       "<style scoped>\n",
       "  .ansiout {\n",
       "    display: block;\n",
       "    unicode-bidi: embed;\n",
       "    white-space: pre-wrap;\n",
       "    word-wrap: break-word;\n",
       "    word-break: break-all;\n",
       "    font-family: \"Menlo\", \"Monaco\", \"Consolas\", \"Ubuntu Mono\", \"Source Code Pro\", monospace;\n",
       "    font-size: 13px;\n",
       "    color: #555;\n",
       "    margin-left: 4px;\n",
       "    line-height: 19px;\n",
       "  }\n",
       "</style>\n",
       "<div class=\"ansiout\"></div>"
      ]
     },
     "metadata": {
      "application/vnd.databricks.v1+output": {
       "addedWidgets": {},
       "arguments": {},
       "data": "<div class=\"ansiout\"></div>",
       "datasetInfos": [],
       "metadata": {},
       "removedWidgets": [],
       "type": "html"
      }
     },
     "output_type": "display_data"
    }
   ],
   "source": [
    "adlurl = \"adl://mlse1.azuredatalakestore.net/yinz_cam/\"+team +\"_tor/realtime_api/\" # real time API"
   ]
  },
  {
   "cell_type": "markdown",
   "metadata": {
    "application/vnd.databricks.v1+cell": {
     "cellMetadata": {},
     "inputWidgets": {},
     "nuid": "0e60ae41-e6b0-4658-ac20-0893857fc659",
     "showTitle": false,
     "title": ""
    }
   },
   "source": [
    "##### Load Realtime data from ADL"
   ]
  },
  {
   "cell_type": "code",
   "execution_count": 0,
   "metadata": {
    "application/vnd.databricks.v1+cell": {
     "cellMetadata": {},
     "inputWidgets": {},
     "nuid": "349b19c7-b0d7-47fa-bb1d-48db6b8003c1",
     "showTitle": false,
     "title": ""
    }
   },
   "outputs": [
    {
     "output_type": "display_data",
     "data": {
      "text/html": [
       "<style scoped>\n",
       "  .ansiout {\n",
       "    display: block;\n",
       "    unicode-bidi: embed;\n",
       "    white-space: pre-wrap;\n",
       "    word-wrap: break-word;\n",
       "    word-break: break-all;\n",
       "    font-family: \"Menlo\", \"Monaco\", \"Consolas\", \"Ubuntu Mono\", \"Source Code Pro\", monospace;\n",
       "    font-size: 13px;\n",
       "    color: #555;\n",
       "    margin-left: 4px;\n",
       "    line-height: 19px;\n",
       "  }\n",
       "</style>\n",
       "<div class=\"ansiout\"></div>"
      ]
     },
     "metadata": {
      "application/vnd.databricks.v1+output": {
       "addedWidgets": {},
       "arguments": {},
       "data": "<div class=\"ansiout\"></div>",
       "datasetInfos": [
        {
         "name": "actions",
         "schema": {
          "fields": [
           {
            "metadata": {},
            "name": "action_id",
            "nullable": true,
            "type": "string"
           },
           {
            "metadata": {},
            "name": "in_venue",
            "nullable": true,
            "type": "string"
           },
           {
            "metadata": {},
            "name": "invisible_date_time",
            "nullable": true,
            "type": "timestamp"
           },
           {
            "metadata": {},
            "name": "request_date_time",
            "nullable": true,
            "type": "timestamp"
           },
           {
            "metadata": {},
            "name": "resource_major",
            "nullable": true,
            "type": "string"
           },
           {
            "metadata": {},
            "name": "resource_minor",
            "nullable": true,
            "type": "string"
           },
           {
            "metadata": {},
            "name": "session_id",
            "nullable": true,
            "type": "string"
           },
           {
            "metadata": {},
            "name": "sort_order",
            "nullable": true,
            "type": "string"
           },
           {
            "metadata": {},
            "name": "type_major",
            "nullable": true,
            "type": "string"
           },
           {
            "metadata": {},
            "name": "type_minor",
            "nullable": true,
            "type": "string"
           },
           {
            "metadata": {},
            "name": "yinzid",
            "nullable": true,
            "type": "string"
           },
           {
            "metadata": {},
            "name": "action_date",
            "nullable": true,
            "type": "string"
           }
          ],
          "type": "struct"
         },
         "tableIdentifier": null,
         "typeStr": "pyspark.sql.dataframe.DataFrame"
        },
        {
         "name": "sessions",
         "schema": {
          "fields": [
           {
            "metadata": {},
            "name": "actions",
            "nullable": true,
            "type": "string"
           },
           {
            "metadata": {},
            "name": "app_id",
            "nullable": true,
            "type": "string"
           },
           {
            "metadata": {},
            "name": "app_version",
            "nullable": true,
            "type": "string"
           },
           {
            "metadata": {},
            "name": "carrier",
            "nullable": true,
            "type": "string"
           },
           {
            "metadata": {},
            "name": "device_adid",
            "nullable": true,
            "type": "string"
           },
           {
            "metadata": {},
            "name": "device_generated_id",
            "nullable": true,
            "type": "string"
           },
           {
            "metadata": {},
            "name": "device_id",
            "nullable": true,
            "type": "string"
           },
           {
            "metadata": {},
            "name": "end_date_time",
            "nullable": true,
            "type": "timestamp"
           },
           {
            "metadata": {},
            "name": "hardware_device_id",
            "nullable": true,
            "type": "integer"
           },
           {
            "metadata": {},
            "name": "ses_id",
            "nullable": true,
            "type": "string"
           },
           {
            "metadata": {},
            "name": "mcc",
            "nullable": true,
            "type": "string"
           },
           {
            "metadata": {},
            "name": "mdn",
            "nullable": true,
            "type": "string"
           },
           {
            "metadata": {},
            "name": "mnc",
            "nullable": true,
            "type": "string"
           },
           {
            "metadata": {},
            "name": "os_version",
            "nullable": true,
            "type": "string"
           },
           {
            "metadata": {},
            "name": "start_date_time",
            "nullable": true,
            "type": "timestamp"
           },
           {
            "metadata": {},
            "name": "session_date",
            "nullable": true,
            "type": "string"
           }
          ],
          "type": "struct"
         },
         "tableIdentifier": null,
         "typeStr": "pyspark.sql.dataframe.DataFrame"
        }
       ],
       "metadata": {},
       "removedWidgets": [],
       "type": "html"
      }
     },
     "output_type": "display_data"
    }
   ],
   "source": [
    "actions  = (spark.read.csv(adlurl+'actions',header=True)\n",
    "            .drop_duplicates()\n",
    "            .withColumnRenamed('id','action_id')\n",
    "            .withColumn('request_date_time',from_utc_timestamp(col('request_date_time').cast(TimestampType()), \"America/Toronto\"))\n",
    "            .withColumn('invisible_date_time',from_utc_timestamp(col('invisible_date_time').cast(TimestampType()), \"America/Toronto\"))\n",
    "            .withColumn('action_date',date_format('request_date_time', 'yyyy-MM-dd'))\n",
    "           )\n",
    "sessions = (spark.read.csv(adlurl+'sessions',header=True)\n",
    "            .withColumnRenamed('id','ses_id')\n",
    "            .withColumn('start_date_time', from_utc_timestamp(col('start_date_time').cast(TimestampType()), \"America/Toronto\"))\n",
    "            .withColumn('end_date_time', from_utc_timestamp(col('end_date_time').cast(TimestampType()), \"America/Toronto\"))\n",
    "            .withColumn('session_date',date_format('start_date_time', 'yyyy-MM-dd'))\n",
    "            .orderBy('end_date_time',ascending=False)\n",
    "            .drop_duplicates(subset=['ses_id'])\n",
    "            .where(col('ses_id').isNotNull())\n",
    "            .withColumn(\"hardware_device_id\",col(\"hardware_device_id\").cast(IntegerType()))\n",
    "           )"
   ]
  },
  {
   "cell_type": "markdown",
   "metadata": {
    "application/vnd.databricks.v1+cell": {
     "cellMetadata": {},
     "inputWidgets": {},
     "nuid": "01ace9f1-f234-4543-b369-17999268c2be",
     "showTitle": false,
     "title": ""
    }
   },
   "source": [
    "##### Load the YinzCam User Profile data"
   ]
  },
  {
   "cell_type": "code",
   "execution_count": 0,
   "metadata": {
    "application/vnd.databricks.v1+cell": {
     "cellMetadata": {},
     "inputWidgets": {},
     "nuid": "09f6311e-b7a3-411d-be98-69f4b929e988",
     "showTitle": false,
     "title": ""
    }
   },
   "outputs": [
    {
     "output_type": "display_data",
     "data": {
      "text/html": [
       "<style scoped>\n",
       "  .ansiout {\n",
       "    display: block;\n",
       "    unicode-bidi: embed;\n",
       "    white-space: pre-wrap;\n",
       "    word-wrap: break-word;\n",
       "    word-break: break-all;\n",
       "    font-family: \"Menlo\", \"Monaco\", \"Consolas\", \"Ubuntu Mono\", \"Source Code Pro\", monospace;\n",
       "    font-size: 13px;\n",
       "    color: #555;\n",
       "    margin-left: 4px;\n",
       "    line-height: 19px;\n",
       "  }\n",
       "</style>\n",
       "<div class=\"ansiout\"></div>"
      ]
     },
     "metadata": {
      "application/vnd.databricks.v1+output": {
       "addedWidgets": {},
       "arguments": {},
       "data": "<div class=\"ansiout\"></div>",
       "datasetInfos": [
        {
         "name": "user_table",
         "schema": {
          "fields": [
           {
            "metadata": {},
            "name": "mlse_id",
            "nullable": true,
            "type": "string"
           },
           {
            "metadata": {},
            "name": "first_name",
            "nullable": true,
            "type": "string"
           },
           {
            "metadata": {},
            "name": "last_name",
            "nullable": true,
            "type": "string"
           },
           {
            "metadata": {},
            "name": "email",
            "nullable": true,
            "type": "string"
           },
           {
            "metadata": {},
            "name": "first_seen",
            "nullable": true,
            "type": "timestamp"
           },
           {
            "metadata": {},
            "name": "last_seen",
            "nullable": true,
            "type": "timestamp"
           },
           {
            "metadata": {},
            "name": "firstLogin",
            "nullable": true,
            "type": "timestamp"
           },
           {
            "metadata": {},
            "name": "clientId",
            "nullable": true,
            "type": "string"
           },
           {
            "metadata": {},
            "name": "yinzid_user_table",
            "nullable": true,
            "type": "string"
           },
           {
            "metadata": {},
            "name": "device_id_user_table",
            "nullable": true,
            "type": "string"
           },
           {
            "metadata": {},
            "name": "id_global",
            "nullable": true,
            "type": "string"
           }
          ],
          "type": "struct"
         },
         "tableIdentifier": null,
         "typeStr": "pyspark.sql.dataframe.DataFrame"
        }
       ],
       "metadata": {},
       "removedWidgets": [],
       "type": "html"
      }
     },
     "output_type": "display_data"
    }
   ],
   "source": [
    "sqlserver = dbutils.secrets.get(scope = \"jdbc\", key = \"sqlserver\")\n",
    "port = '1433'\n",
    "database = 'mlse_sqldb' #user table is in this database\n",
    "user = dbutils.secrets.get(scope = \"jdbc\", key = \"username\")\n",
    "pswd = dbutils.secrets.get(scope = \"jdbc\", key = \"password\")\n",
    "url = 'jdbc:sqlserver://' + sqlserver + ':' + port + ';database=' + database\n",
    "\n",
    "user_table = (spark\n",
    "              .read\n",
    "              .option('user', user)\n",
    "              .option('password', pswd)\n",
    "              .jdbc(url, team + \"_user_table\")\n",
    "              .withColumnRenamed(\"yinzid\",\"yinzid_user_table\")\n",
    "              .withColumnRenamed(\"device_id\",\"device_id_user_table\")\n",
    "             )"
   ]
  },
  {
   "cell_type": "markdown",
   "metadata": {
    "application/vnd.databricks.v1+cell": {
     "cellMetadata": {},
     "inputWidgets": {},
     "nuid": "12acaf77-a236-44c5-867d-83ea8174ee2c",
     "showTitle": false,
     "title": ""
    }
   },
   "source": [
    "## Join the Realtime data (`actions`, `sessions`) into a single table\n",
    "\n",
    "(to get information about the `device_id`)"
   ]
  },
  {
   "cell_type": "code",
   "execution_count": 0,
   "metadata": {
    "application/vnd.databricks.v1+cell": {
     "cellMetadata": {},
     "inputWidgets": {},
     "nuid": "0fe60858-5537-4889-9262-e436357ec824",
     "showTitle": false,
     "title": ""
    }
   },
   "outputs": [
    {
     "output_type": "display_data",
     "data": {
      "text/html": [
       "<style scoped>\n",
       "  .ansiout {\n",
       "    display: block;\n",
       "    unicode-bidi: embed;\n",
       "    white-space: pre-wrap;\n",
       "    word-wrap: break-word;\n",
       "    word-break: break-all;\n",
       "    font-family: \"Menlo\", \"Monaco\", \"Consolas\", \"Ubuntu Mono\", \"Source Code Pro\", monospace;\n",
       "    font-size: 13px;\n",
       "    color: #555;\n",
       "    margin-left: 4px;\n",
       "    line-height: 19px;\n",
       "  }\n",
       "</style>\n",
       "<div class=\"ansiout\">300288112\n",
       "</div>"
      ]
     },
     "metadata": {
      "application/vnd.databricks.v1+output": {
       "addedWidgets": {},
       "arguments": {},
       "data": "<div class=\"ansiout\">300288112\n</div>",
       "datasetInfos": [
        {
         "name": "actions_sessions",
         "schema": {
          "fields": [
           {
            "metadata": {},
            "name": "mlse_id",
            "nullable": true,
            "type": "string"
           },
           {
            "metadata": {},
            "name": "action_id",
            "nullable": true,
            "type": "string"
           },
           {
            "metadata": {},
            "name": "in_venue",
            "nullable": true,
            "type": "string"
           },
           {
            "metadata": {},
            "name": "invisible_date_time",
            "nullable": true,
            "type": "timestamp"
           },
           {
            "metadata": {},
            "name": "request_date_time",
            "nullable": true,
            "type": "timestamp"
           },
           {
            "metadata": {},
            "name": "resource_major",
            "nullable": true,
            "type": "string"
           },
           {
            "metadata": {},
            "name": "resource_minor",
            "nullable": true,
            "type": "string"
           },
           {
            "metadata": {},
            "name": "session_id",
            "nullable": true,
            "type": "string"
           },
           {
            "metadata": {},
            "name": "sort_order",
            "nullable": true,
            "type": "string"
           },
           {
            "metadata": {},
            "name": "type_major",
            "nullable": true,
            "type": "string"
           },
           {
            "metadata": {},
            "name": "type_minor",
            "nullable": true,
            "type": "string"
           },
           {
            "metadata": {},
            "name": "yinzid",
            "nullable": true,
            "type": "string"
           },
           {
            "metadata": {},
            "name": "action_date",
            "nullable": true,
            "type": "string"
           },
           {
            "metadata": {},
            "name": "actions",
            "nullable": true,
            "type": "string"
           },
           {
            "metadata": {},
            "name": "app_id",
            "nullable": true,
            "type": "string"
           },
           {
            "metadata": {},
            "name": "app_version",
            "nullable": true,
            "type": "string"
           },
           {
            "metadata": {},
            "name": "carrier",
            "nullable": true,
            "type": "string"
           },
           {
            "metadata": {},
            "name": "device_adid",
            "nullable": true,
            "type": "string"
           },
           {
            "metadata": {},
            "name": "device_generated_id",
            "nullable": true,
            "type": "string"
           },
           {
            "metadata": {},
            "name": "device_id",
            "nullable": true,
            "type": "string"
           },
           {
            "metadata": {},
            "name": "end_date_time",
            "nullable": true,
            "type": "timestamp"
           },
           {
            "metadata": {},
            "name": "hardware_device_id",
            "nullable": true,
            "type": "integer"
           },
           {
            "metadata": {},
            "name": "ses_id",
            "nullable": true,
            "type": "string"
           },
           {
            "metadata": {},
            "name": "mcc",
            "nullable": true,
            "type": "string"
           },
           {
            "metadata": {},
            "name": "mdn",
            "nullable": true,
            "type": "string"
           },
           {
            "metadata": {},
            "name": "mnc",
            "nullable": true,
            "type": "string"
           },
           {
            "metadata": {},
            "name": "os_version",
            "nullable": true,
            "type": "string"
           },
           {
            "metadata": {},
            "name": "start_date_time",
            "nullable": true,
            "type": "timestamp"
           },
           {
            "metadata": {},
            "name": "session_date",
            "nullable": true,
            "type": "string"
           },
           {
            "metadata": {},
            "name": "first_name",
            "nullable": true,
            "type": "string"
           },
           {
            "metadata": {},
            "name": "last_name",
            "nullable": true,
            "type": "string"
           },
           {
            "metadata": {},
            "name": "email",
            "nullable": true,
            "type": "string"
           },
           {
            "metadata": {},
            "name": "first_seen",
            "nullable": true,
            "type": "timestamp"
           },
           {
            "metadata": {},
            "name": "last_seen",
            "nullable": true,
            "type": "timestamp"
           },
           {
            "metadata": {},
            "name": "firstLogin",
            "nullable": true,
            "type": "timestamp"
           },
           {
            "metadata": {},
            "name": "clientId",
            "nullable": true,
            "type": "string"
           },
           {
            "metadata": {},
            "name": "yinzid_user_table",
            "nullable": true,
            "type": "string"
           },
           {
            "metadata": {},
            "name": "device_id_user_table",
            "nullable": true,
            "type": "string"
           },
           {
            "metadata": {},
            "name": "id_global",
            "nullable": true,
            "type": "string"
           }
          ],
          "type": "struct"
         },
         "tableIdentifier": null,
         "typeStr": "pyspark.sql.dataframe.DataFrame"
        }
       ],
       "metadata": {},
       "removedWidgets": [],
       "type": "html"
      }
     },
     "output_type": "display_data"
    }
   ],
   "source": [
    "actions_sessions = (actions\n",
    "                    .join(sessions,\n",
    "                          col('session_id') == col('device_generated_id')) #inner        \n",
    "                    .withColumn(\"yinzid\",when(col(\"yinzid\").isNotNull(),col(\"yinzid\")).otherwise(\"EMPTY\"))#reescribe\n",
    "                    .withColumn(\"mlse_id\",concat(\"device_id\",\"yinzid\")) #concat no se puede if Null, \n",
    "                    .join(user_table,'mlse_id','inner')\n",
    "                   ) #join actions and session to get mlse_id\n",
    "actions_sessions_count = actions_sessions.cache().count()\n",
    "print(actions_sessions_count)"
   ]
  },
  {
   "cell_type": "markdown",
   "metadata": {
    "application/vnd.databricks.v1+cell": {
     "cellMetadata": {},
     "inputWidgets": {},
     "nuid": "e74ea453-242e-4584-af8b-8728013dc17a",
     "showTitle": false,
     "title": ""
    }
   },
   "source": [
    "## Aggregate the `actions_sessions` data into push actions by user (mlse_id)"
   ]
  },
  {
   "cell_type": "code",
   "execution_count": 0,
   "metadata": {
    "application/vnd.databricks.v1+cell": {
     "cellMetadata": {},
     "inputWidgets": {},
     "nuid": "63117481-66c5-4b0b-83cf-9743b7fb5cf1",
     "showTitle": false,
     "title": ""
    }
   },
   "outputs": [
    {
     "output_type": "display_data",
     "data": {
      "text/html": [
       "<style scoped>\n",
       "  .ansiout {\n",
       "    display: block;\n",
       "    unicode-bidi: embed;\n",
       "    white-space: pre-wrap;\n",
       "    word-wrap: break-word;\n",
       "    word-break: break-all;\n",
       "    font-family: \"Menlo\", \"Monaco\", \"Consolas\", \"Ubuntu Mono\", \"Source Code Pro\", monospace;\n",
       "    font-size: 13px;\n",
       "    color: #555;\n",
       "    margin-left: 4px;\n",
       "    line-height: 19px;\n",
       "  }\n",
       "</style>\n",
       "<div class=\"ansiout\">473084\n",
       "</div>"
      ]
     },
     "metadata": {
      "application/vnd.databricks.v1+output": {
       "addedWidgets": {},
       "arguments": {},
       "data": "<div class=\"ansiout\">473084\n</div>",
       "datasetInfos": [
        {
         "name": "push_by_user",
         "schema": {
          "fields": [
           {
            "metadata": {},
            "name": "mlse_id",
            "nullable": true,
            "type": "string"
           },
           {
            "metadata": {},
            "name": "Total_push_view",
            "nullable": true,
            "type": "long"
           },
           {
            "metadata": {},
            "name": "Total_push_click",
            "nullable": true,
            "type": "long"
           },
           {
            "metadata": {},
            "name": "Total_push_opened_app",
            "nullable": true,
            "type": "long"
           }
          ],
          "type": "struct"
         },
         "tableIdentifier": null,
         "typeStr": "pyspark.sql.dataframe.DataFrame"
        }
       ],
       "metadata": {},
       "removedWidgets": [],
       "type": "html"
      }
     },
     "output_type": "display_data"
    }
   ],
   "source": [
    "push_by_user = (actions_sessions\n",
    "                .groupBy('mlse_id')\n",
    "                .agg(sum(when(col('type_major')=='PUSH_VIEW',1).otherwise(0)).alias('Total_push_view'),\n",
    "                     sum(when(col('type_major')=='PUSH_CLICK',1).otherwise(0)).alias('Total_push_click'),\n",
    "                     sum(when(col('type_major')=='PUSH_OPENED_APP',1).otherwise(0)).alias('Total_push_opened_app')\n",
    "                    )\n",
    "               )\n",
    "push_by_user_count = push_by_user.cache().count()\n",
    "print(push_by_user_count)"
   ]
  },
  {
   "cell_type": "markdown",
   "metadata": {
    "application/vnd.databricks.v1+cell": {
     "cellMetadata": {},
     "inputWidgets": {},
     "nuid": "17697013-eee1-41ba-a033-c4e699dba755",
     "showTitle": false,
     "title": ""
    }
   },
   "source": [
    "## Write to SQL"
   ]
  },
  {
   "cell_type": "code",
   "execution_count": 0,
   "metadata": {
    "application/vnd.databricks.v1+cell": {
     "cellMetadata": {},
     "inputWidgets": {},
     "nuid": "9197fde0-dd95-4a4a-857f-0f7830b5bc26",
     "showTitle": false,
     "title": ""
    }
   },
   "outputs": [],
   "source": [
    "sqlserver = dbutils.secrets.get(scope = \"jdbc\", key = \"sqlserver\")\n",
    "port = '1433'\n",
    "database = 'mlse_freq'\n",
    "user = dbutils.secrets.get(scope = \"jdbc\", key = \"username\")\n",
    "pswd = dbutils.secrets.get(scope = \"jdbc\", key = \"password\")\n",
    "url = 'jdbc:sqlserver://' + sqlserver + ':' + port + ';database=' + database"
   ]
  },
  {
   "cell_type": "code",
   "execution_count": 0,
   "metadata": {
    "application/vnd.databricks.v1+cell": {
     "cellMetadata": {},
     "inputWidgets": {},
     "nuid": "1669919a-5610-4908-9d75-9c3324510046",
     "showTitle": false,
     "title": ""
    }
   },
   "outputs": [],
   "source": [
    "(push_by_user\n",
    "   .coalesce(8)\n",
    "   .write\n",
    "   .option('user', user)\n",
    "   .option('password', pswd)\n",
    "   .jdbc(url, team + \"_push_by_user\", mode = 'overwrite' )\n",
    ")"
   ]
  }
 ],
 "metadata": {
  "application/vnd.databricks.v1+notebook": {
   "dashboards": [],
   "language": "python",
   "notebookMetadata": {
    "pythonIndentUnit": 2
   },
   "notebookName": "push_by_user",
   "widgets": {
    "team": {
     "currentValue": "nhl",
     "nuid": "90ff5d6d-e173-4701-b374-11854428c73f",
     "widgetInfo": {
      "widgetType": "text",
      "defaultValue": "",
      "label": "",
      "name": "team",
      "options": {
       "widgetType": "text",
       "autoCreated": null,
       "validationRegex": null
      }
     }
    }
   }
  }
 },
 "nbformat": 4,
 "nbformat_minor": 0
}
